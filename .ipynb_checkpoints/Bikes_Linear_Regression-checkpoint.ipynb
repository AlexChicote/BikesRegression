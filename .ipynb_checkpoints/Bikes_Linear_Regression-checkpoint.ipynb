{
 "cells": [
  {
   "cell_type": "code",
   "execution_count": 1,
   "id": "cc839a6b",
   "metadata": {
    "tags": []
   },
   "outputs": [
    {
     "name": "stdout",
     "output_type": "stream",
     "text": [
      "Hello\n",
      "DOOOOOOOOONE\n"
     ]
    }
   ],
   "source": [
    "#imports\n",
    "\n",
    "import warnings \n",
    "  \n",
    "print('Hello') \n",
    "  \n",
    "# Settings the warnings to be ignored \n",
    "warnings.filterwarnings('ignore') \n",
    "import pandas as pd\n",
    "import numpy as np\n",
    "from itertools import combinations\n",
    "import pickle\n",
    "import time\n",
    "import webbrowser\n",
    "\n",
    "from sklearn.metrics import mean_squared_error, r2_score\n",
    "from sklearn.linear_model import LinearRegression, Ridge\n",
    "from sklearn.ensemble import RandomForestRegressor\n",
    "from sklearn.svm import SVR, LinearSVR\n",
    "from sklearn.model_selection import cross_val_score, KFold\n",
    "from sklearn.ensemble import RandomForestRegressor\n",
    "from sklearn.model_selection import train_test_split, RandomizedSearchCV, GridSearchCV\n",
    "from sklearn.preprocessing import StandardScaler,OneHotEncoder,OrdinalEncoder, MinMaxScaler\n",
    "from sklearn.neural_network import MLPRegressor\n",
    "from sklearn.ensemble import GradientBoostingRegressor\n",
    "from sklearn.neighbors import KNeighborsRegressor\n",
    "from sklearn.pipeline import Pipeline, make_pipeline\n",
    "from sklearn.compose import ColumnTransformer\n",
    "from sklearn.feature_selection import SelectKBest, SelectFromModel, f_regression\n",
    "\n",
    "\n",
    "import seaborn as sns\n",
    "import matplotlib.pyplot as plt\n",
    "%matplotlib inline\n",
    "\n",
    "#load the dataframe----bikes\n",
    "url = './data/bikeshare.csv'\n",
    "bikes = pd.read_csv(url, index_col='datetime', parse_dates=True)\n",
    "bikes.columns=[col.lower().replace(\" \",\"_\") if col !='count' else 'total_rentals'for col in bikes.columns]\n",
    "bikes.columns\n",
    "bikes=bikes.drop(['atemp','registered', 'casual'],axis=1)\n",
    "#feature engineering\n",
    "\n",
    "bikes['hour']=bikes.index.hour\n",
    "bikes['weekday']=bikes.index.day_name()\n",
    "features=[col for col in bikes.columns if col !='total_rentals']\n",
    "\n",
    "numerical_features=['temp','windspeed','humidity']\n",
    "\n",
    "#feature engineering\n",
    "\n",
    "bikes['hour']=bikes.index.hour\n",
    "bikes['weekday']=bikes.index.day_name()\n",
    "new_bikes=bikes.copy()\n",
    "columns_to_dummify=['hour','weekday','season']\n",
    "for col in columns_to_dummify:\n",
    "    dummies=pd.get_dummies(bikes[col],prefix=col,drop_first=True)\n",
    "    bikes=pd.concat([bikes,dummies],axis=1)\n",
    "#bikes.drop(['weekday','hour'],axis=1,inplace=True)\n",
    "\n",
    "#classifying features\n",
    "cat_features=[col for col in features if col not in numerical_features]\n",
    "alg_dict={'Linear Regression':LinearRegression(),\n",
    "         'Random Forest': RandomForestRegressor(),\n",
    "         'Ridge': Ridge(),\n",
    "         'SVR':SVR()}\n",
    "models=[('NN',MLPRegressor(max_iter=300,random_state=999)),\n",
    "       (\"boosting\",GradientBoostingRegressor(random_state=999)),\n",
    "        (\"knn\", KNeighborsRegressor()),\n",
    "        ('SVR',LinearSVR())\n",
    "       ]\n",
    "final_models=[('NN',MLPRegressor(max_iter=600,random_state=999)),\n",
    "               ('Random Forest',RandomForestRegressor())]\n",
    "print('DOOOOOOOOONE')"
   ]
  },
  {
   "cell_type": "code",
   "execution_count": 2,
   "id": "84ce704f",
   "metadata": {
    "tags": []
   },
   "outputs": [],
   "source": [
    "def train_test_rmse(df, feature_cols):\n",
    "    X = df[feature_cols]\n",
    "    y = df.total_rentals\n",
    "    \n",
    "    X_train, X_test, y_train, y_test = train_test_split(X, y,random_state=123)\n",
    "    \n",
    "    linreg = LinearRegression()\n",
    "    linreg.fit(X_train, y_train)\n",
    "    \n",
    "    y_pred = linreg.predict(X_test)\n",
    "    return np.sqrt(mean_squared_error(y_test, y_pred)),r2_score(y_test,y_pred)\n",
    "\n",
    "def train_test_rmse_and_alg(df, feature_cols,algorithm):\n",
    "    X = df[feature_cols]\n",
    "    y = df.total_rentals\n",
    "    \n",
    "    X_train, X_test, y_train, y_test = train_test_split(X, y,random_state=123)\n",
    "    \n",
    "    alg = algorithm\n",
    "    alg.fit(X_train, y_train)\n",
    "    \n",
    "    y_pred = alg.predict(X_test)\n",
    "    return np.sqrt(mean_squared_error(y_test, y_pred)),r2_score(y_test,y_pred)\n",
    "def train_test_rmse_and_ss(df, feature_cols,algorithm):\n",
    "    X = df[feature_cols]\n",
    "    y = df.total_rentals\n",
    "    \n",
    "    X_train, X_test, y_train, y_test = train_test_split(X, y,random_state=123)\n",
    "    \n",
    "    ss=StandardScaler()\n",
    "    \n",
    "    X_s_train= ss.fit_transform(X_train)\n",
    "    \n",
    "    X_s_test=ss.transform(X_test)\n",
    "    alg=algorithm\n",
    "    \n",
    "    alg.fit(X_s_train, y_train)\n",
    "    \n",
    "    y_pred = alg.predict(X_s_test)\n",
    "\n",
    "    return np.sqrt(mean_squared_error(y_test, y_pred)),r2_score(y_test,y_pred)"
   ]
  },
  {
   "cell_type": "code",
   "execution_count": null,
   "id": "17ef9714",
   "metadata": {},
   "outputs": [],
   "source": [
    "st = time.time()\n",
    "results_df2=pd.DataFrame(columns=['features','rmse','r2','#features','algorithm'])\n",
    "count=0\n",
    "for i in range(1,len(features)+1):\n",
    "    for combo in list(combinations(features, i)):\n",
    "        combo_list=list(combo)\n",
    "        #print(combo_list,type(combo_list))\n",
    "        length=len(combo_list)        \n",
    "        count+=1\n",
    "        if count%50==0:\n",
    "            print('COUNT',count)\n",
    "        final_list=[]\n",
    "            \n",
    "        for feature in combo_list:\n",
    "            #print(feature)\n",
    "            if feature in columns_to_dummify:\n",
    "                \n",
    "                final_list.extend([col for col in bikes.columns if feature+'_' in col])\n",
    "            else:\n",
    "                final_list.append(feature)\n",
    "                \n",
    "        #print('FINAL LIST',final_list)\n",
    "                        \n",
    "        for algorithm in alg_dict.items():\n",
    "            if algorithm[0] in ['Ridge','SVR'] and len(final_list)!=1:\n",
    "                rmse,r2=train_test_rmse_and_ss(bikes, final_list,algorithm[1])\n",
    "                results_df2.loc[len(results_df2.index)]= [final_list,rmse,r2,length,algorithm[0]]\n",
    "\n",
    "            else:\n",
    "                rmse,r2=train_test_rmse_and_alg(bikes, final_list,algorithm[1])\n",
    "                results_df2.loc[len(results_df2.index)]= [final_list,rmse,r2,length,algorithm[0]]\n",
    "\n",
    "et = time.time()\n",
    "  \n",
    "\n",
    "with open('resuts_df2.pkl','wb') as file:\n",
    "    pickle.dump(results_df2,file)\n",
    "f'It took that many minutes {round((et-st)/60,2)} to get it done'\n",
    "url = \"https://www.youtube.com/watch?v=Udt-9J8nzGE\"\n",
    "webbrowser.open(url,new=1)"
   ]
  },
  {
   "cell_type": "markdown",
   "id": "4da71c92-0a99-4082-b4ea-16d8375c29af",
   "metadata": {},
   "source": [
    "# Analyzing Results"
   ]
  },
  {
   "cell_type": "code",
   "execution_count": 3,
   "id": "c7ad0693-5af7-4ccf-af7b-590789ba3875",
   "metadata": {
    "tags": []
   },
   "outputs": [],
   "source": [
    "with open('resuts_df2.pkl','rb') as file:\n",
    "    results= pickle.load(file)"
   ]
  },
  {
   "cell_type": "code",
   "execution_count": 4,
   "id": "349902ea-1686-4084-b688-b98697426736",
   "metadata": {
    "tags": []
   },
   "outputs": [
    {
     "data": {
      "text/plain": [
       "algorithm\n",
       "Random Forest         77.757430\n",
       "Linear Regression    111.365339\n",
       "Ridge                111.366592\n",
       "SVR                  131.077315\n",
       "Name: rmse, dtype: float64"
      ]
     },
     "execution_count": 4,
     "metadata": {},
     "output_type": "execute_result"
    }
   ],
   "source": [
    "#Best algorithm\n",
    "results.groupby('algorithm').rmse.min().sort_values()\n",
    "##E+RandomForest is a clear winner"
   ]
  },
  {
   "cell_type": "code",
   "execution_count": 5,
   "id": "8716dd4c-2a96-4a42-b4ec-b0e9483bb171",
   "metadata": {
    "tags": []
   },
   "outputs": [
    {
     "data": {
      "image/png": "[encoded data removed]",
      "text/plain": [
       "<Figure size 600x600 with 2 Axes>"
      ]
     },
     "metadata": {},
     "output_type": "display_data"
    }
   ],
   "source": [
    "groupy=results.groupby('#features')[['rmse','r2']].mean()\n",
    "COLOR_R2 = \"#69b3a2\"\n",
    "COLOR_RMSE = \"#3399e6\"\n",
    "\n",
    "fig, ax1 = plt.subplots(figsize=(6, 6))\n",
    "ax2 = ax1.twinx()\n",
    "\n",
    "ax1.plot(groupy.index, groupy.r2, color=COLOR_R2, lw=3)\n",
    "ax2.plot(groupy.index, groupy.rmse, color=COLOR_RMSE, lw=4)\n",
    "\n",
    "ax1.set_xlabel(\"Number of features\")\n",
    "ax1.set_ylabel(\"R2\", color=COLOR_R2, fontsize=14)\n",
    "ax1.tick_params(axis=\"y\", labelcolor=COLOR_R2)\n",
    "\n",
    "ax2.set_ylabel(\"RMSE\", color=COLOR_RMSE, fontsize=14)\n",
    "ax2.tick_params(axis=\"y\", labelcolor=COLOR_RMSE)\n",
    "\n",
    "fig.suptitle(\"RMSE down, R2 up\", fontsize=20)\n",
    "fig.autofmt_xdate()\n",
    "#Obvoiously, to select all features seems the best option"
   ]
  },
  {
   "cell_type": "code",
   "execution_count": 6,
   "id": "aa530ada-6273-40d0-8b81-01be1ed22e8e",
   "metadata": {
    "tags": []
   },
   "outputs": [
    {
     "data": {
      "text/html": [
       "<div>\n",
       "<style scoped>\n",
       "    .dataframe tbody tr th:only-of-type {\n",
       "        vertical-align: middle;\n",
       "    }\n",
       "\n",
       "    .dataframe tbody tr th {\n",
       "        vertical-align: top;\n",
       "    }\n",
       "\n",
       "    .dataframe thead th {\n",
       "        text-align: right;\n",
       "    }\n",
       "</style>\n",
       "<table border=\"1\" class=\"dataframe\">\n",
       "  <thead>\n",
       "    <tr style=\"text-align: right;\">\n",
       "      <th></th>\n",
       "      <th>features</th>\n",
       "      <th>rmse</th>\n",
       "      <th>r2</th>\n",
       "      <th>#features</th>\n",
       "    </tr>\n",
       "    <tr>\n",
       "      <th>algorithm</th>\n",
       "      <th></th>\n",
       "      <th></th>\n",
       "      <th></th>\n",
       "      <th></th>\n",
       "    </tr>\n",
       "  </thead>\n",
       "  <tbody>\n",
       "    <tr>\n",
       "      <th>Linear Regression</th>\n",
       "      <td>[season_2, season_3, season_4, holiday, workin...</td>\n",
       "      <td>111.365339</td>\n",
       "      <td>0.615418</td>\n",
       "      <td>9</td>\n",
       "    </tr>\n",
       "    <tr>\n",
       "      <th>Random Forest</th>\n",
       "      <td>[season_2, season_3, season_4, workingday, wea...</td>\n",
       "      <td>77.757430</td>\n",
       "      <td>0.812512</td>\n",
       "      <td>8</td>\n",
       "    </tr>\n",
       "    <tr>\n",
       "      <th>Ridge</th>\n",
       "      <td>[season_2, season_3, season_4, workingday, wea...</td>\n",
       "      <td>111.366592</td>\n",
       "      <td>0.615410</td>\n",
       "      <td>8</td>\n",
       "    </tr>\n",
       "    <tr>\n",
       "      <th>SVR</th>\n",
       "      <td>[workingday, temp, humidity, hour_1, hour_2, h...</td>\n",
       "      <td>131.077315</td>\n",
       "      <td>0.467225</td>\n",
       "      <td>4</td>\n",
       "    </tr>\n",
       "  </tbody>\n",
       "</table>\n",
       "</div>"
      ],
      "text/plain": [
       "                                                            features  \\\n",
       "algorithm                                                              \n",
       "Linear Regression  [season_2, season_3, season_4, holiday, workin...   \n",
       "Random Forest      [season_2, season_3, season_4, workingday, wea...   \n",
       "Ridge              [season_2, season_3, season_4, workingday, wea...   \n",
       "SVR                [workingday, temp, humidity, hour_1, hour_2, h...   \n",
       "\n",
       "                         rmse        r2  #features  \n",
       "algorithm                                           \n",
       "Linear Regression  111.365339  0.615418          9  \n",
       "Random Forest       77.757430  0.812512          8  \n",
       "Ridge              111.366592  0.615410          8  \n",
       "SVR                131.077315  0.467225          4  "
      ]
     },
     "execution_count": 6,
     "metadata": {},
     "output_type": "execute_result"
    }
   ],
   "source": [
    "results.sort_values('rmse').groupby('algorithm').first()\n",
    "#Except for SVR all get the best results with alomst all features"
   ]
  },
  {
   "cell_type": "code",
   "execution_count": 7,
   "id": "fdca513d-d936-4dcb-9391-5f6f766901bc",
   "metadata": {
    "tags": []
   },
   "outputs": [
    {
     "data": {
      "text/html": [
       "<div>\n",
       "<style scoped>\n",
       "    .dataframe tbody tr th:only-of-type {\n",
       "        vertical-align: middle;\n",
       "    }\n",
       "\n",
       "    .dataframe tbody tr th {\n",
       "        vertical-align: top;\n",
       "    }\n",
       "\n",
       "    .dataframe thead th {\n",
       "        text-align: right;\n",
       "    }\n",
       "</style>\n",
       "<table border=\"1\" class=\"dataframe\">\n",
       "  <thead>\n",
       "    <tr style=\"text-align: right;\">\n",
       "      <th></th>\n",
       "      <th>rmse</th>\n",
       "      <th>r2</th>\n",
       "    </tr>\n",
       "    <tr>\n",
       "      <th>#features</th>\n",
       "      <th></th>\n",
       "      <th></th>\n",
       "    </tr>\n",
       "  </thead>\n",
       "  <tbody>\n",
       "    <tr>\n",
       "      <th>1</th>\n",
       "      <td>170.163766</td>\n",
       "      <td>0.094589</td>\n",
       "    </tr>\n",
       "    <tr>\n",
       "      <th>2</th>\n",
       "      <td>160.545461</td>\n",
       "      <td>0.185425</td>\n",
       "    </tr>\n",
       "    <tr>\n",
       "      <th>3</th>\n",
       "      <td>152.031901</td>\n",
       "      <td>0.261307</td>\n",
       "    </tr>\n",
       "    <tr>\n",
       "      <th>4</th>\n",
       "      <td>142.530123</td>\n",
       "      <td>0.341068</td>\n",
       "    </tr>\n",
       "    <tr>\n",
       "      <th>5</th>\n",
       "      <td>130.336917</td>\n",
       "      <td>0.438880</td>\n",
       "    </tr>\n",
       "    <tr>\n",
       "      <th>6</th>\n",
       "      <td>115.878161</td>\n",
       "      <td>0.549882</td>\n",
       "    </tr>\n",
       "    <tr>\n",
       "      <th>7</th>\n",
       "      <td>101.081385</td>\n",
       "      <td>0.657606</td>\n",
       "    </tr>\n",
       "    <tr>\n",
       "      <th>8</th>\n",
       "      <td>88.196721</td>\n",
       "      <td>0.745721</td>\n",
       "    </tr>\n",
       "    <tr>\n",
       "      <th>9</th>\n",
       "      <td>77.843049</td>\n",
       "      <td>0.812099</td>\n",
       "    </tr>\n",
       "  </tbody>\n",
       "</table>\n",
       "</div>"
      ],
      "text/plain": [
       "                 rmse        r2\n",
       "#features                      \n",
       "1          170.163766  0.094589\n",
       "2          160.545461  0.185425\n",
       "3          152.031901  0.261307\n",
       "4          142.530123  0.341068\n",
       "5          130.336917  0.438880\n",
       "6          115.878161  0.549882\n",
       "7          101.081385  0.657606\n",
       "8           88.196721  0.745721\n",
       "9           77.843049  0.812099"
      ]
     },
     "execution_count": 7,
     "metadata": {},
     "output_type": "execute_result"
    }
   ],
   "source": [
    "#Finally, just confirming our results, will anayze the score in RandomForest based on features\n",
    "results[results['algorithm']=='Random Forest'].groupby('#features')[['rmse','r2']].mean()"
   ]
  },
  {
   "cell_type": "code",
   "execution_count": 8,
   "id": "6df5f455-9b55-416b-8c50-f29487337550",
   "metadata": {
    "tags": []
   },
   "outputs": [
    {
     "data": {
      "image/png": "[encoded data removed]",
      "text/plain": [
       "<Figure size 600x600 with 2 Axes>"
      ]
     },
     "metadata": {},
     "output_type": "display_data"
    }
   ],
   "source": [
    "groupy_rf=results[results['algorithm']=='Random Forest'].groupby('#features')[['rmse','r2']].mean()\n",
    "\n",
    "COLOR_R2 = \"#69b3a2\"\n",
    "COLOR_RMSE = \"#3399e6\"\n",
    "\n",
    "fig, ax1 = plt.subplots(figsize=(6, 6))\n",
    "ax2 = ax1.twinx()\n",
    "\n",
    "ax1.plot(groupy_rf.index, groupy.r2, color=COLOR_R2, lw=3)\n",
    "ax2.plot(groupy_rf.index, groupy.rmse, color=COLOR_RMSE, lw=4)\n",
    "\n",
    "ax1.set_xlabel(\"Number of features\")\n",
    "ax1.set_ylabel(\"R2\", color=COLOR_R2, fontsize=14)\n",
    "ax1.tick_params(axis=\"y\", labelcolor=COLOR_R2)\n",
    "\n",
    "ax2.set_ylabel(\"RMSE\", color=COLOR_RMSE, fontsize=14)\n",
    "ax2.tick_params(axis=\"y\", labelcolor=COLOR_RMSE)\n",
    "\n",
    "fig.suptitle(\"RMSE down, R2 up with Random Forest\", fontsize=20)\n",
    "fig.autofmt_xdate()\n",
    "#Obvoiously, to select all features seems the best option"
   ]
  },
  {
   "cell_type": "code",
   "execution_count": 9,
   "id": "edbbdee7-931a-4b4d-a6f1-5c15f86691c7",
   "metadata": {
    "tags": []
   },
   "outputs": [
    {
     "name": "stdout",
     "output_type": "stream",
     "text": [
      "Linear Regression 111.36533876817826 []\n",
      "Random Forest 77.75742950775866 []\n",
      "Ridge 111.36659207283859 []\n",
      "SVR 131.07731477960593 []\n"
     ]
    }
   ],
   "source": [
    "#Curiosity what feature/s are left out in the best solution for LinearRegression and Ridge\n",
    "for algorithm in alg_dict.keys():\n",
    "    rmse_min=results[results['algorithm']==algorithm]['rmse'].min()\n",
    "    list_fea=results[(results['algorithm']==algorithm)&(results['rmse']==rmse_min)]['features'].values[0]\n",
    "    print(algorithm,rmse_min,[col for col in list_fea if '_' not in col and col not in features])"
   ]
  },
  {
   "cell_type": "markdown",
   "id": "d7f3cba7-d653-47bd-9767-3a8aced5617e",
   "metadata": {},
   "source": [
    "# Using Pipeline, crossvalidation and SelectKbest to try new models"
   ]
  },
  {
   "cell_type": "code",
   "execution_count": 34,
   "id": "7499214b-f7b9-4184-80aa-6e1f2ba69b0b",
   "metadata": {
    "tags": []
   },
   "outputs": [
    {
     "name": "stdout",
     "output_type": "stream",
     "text": [
      "It took that many minutes 1.19 to get it done\n"
     ]
    },
    {
     "data": {
      "text/plain": [
       "True"
      ]
     },
     "execution_count": 34,
     "metadata": {},
     "output_type": "execute_result"
    }
   ],
   "source": [
    "st = time.time()\n",
    "results_df=pd.DataFrame(columns=['features','rmse_ytest','rmse_cv','#features','algorithm'])\n",
    "new_features=[col for col in new_bikes.columns if col !='total_rentals']\n",
    "numerical_features=['temp','windspeed','humidity']\n",
    "categorical_features=[col for col in new_features if col not in numerical_features]\n",
    "\n",
    "count=0\n",
    "\n",
    "                        \n",
    "for model in models:\n",
    "    X=new_bikes[new_features]\n",
    "    y=new_bikes.total_rentals\n",
    "\n",
    "    X_train, X_test, y_train, y_test=train_test_split(X,y,random_state=999)\n",
    "\n",
    "    steps=[('columns',ColumnTransformer(\n",
    "            transformers=[(\"cat\", OneHotEncoder(categories='auto',sparse_output=False,handle_unknown='ignore'), categorical_features)],\n",
    "            remainder=\"passthrough\",\n",
    "            )),\n",
    "          ('standardization',StandardScaler()),\n",
    "          ('regressor',model[1])]\n",
    "\n",
    "    pipeline=Pipeline(steps=steps)\n",
    "    pipeline.fit(X_train,y_train)\n",
    "    y_preds=pipeline.predict(X_test)\n",
    "    rmse=np.sqrt(mean_squared_error(y_test,y_preds))\n",
    "    cv=KFold()\n",
    "    scores=cross_val_score(pipeline,X_train,y_train,cv=cv,scoring='neg_mean_squared_error')\n",
    "    results_df.loc[len(results_df.index)]= [new_features,rmse,np.sqrt(np.abs(scores)).mean(),\\\n",
    "                                            len(new_features),model[0]]\n",
    "\n",
    "et = time.time()\n",
    "\n",
    "\n",
    "with open('resuts_df_plus.pkl','wb') as file:\n",
    "    pickle.dump(results_df,file)\n",
    "print(f'It took that many minutes {round((et-st)/60,2)} to get it done')\n",
    "url = \"https://www.youtube.com/watch?v=Udt-9J8nzGE\"\n",
    "webbrowser.open(url,new=1)"
   ]
  },
  {
   "cell_type": "code",
   "execution_count": 10,
   "id": "6a52911c-cb69-4f64-a7cf-d51a29ef1faa",
   "metadata": {
    "tags": []
   },
   "outputs": [
    {
     "data": {
      "text/html": [
       "<div>\n",
       "<style scoped>\n",
       "    .dataframe tbody tr th:only-of-type {\n",
       "        vertical-align: middle;\n",
       "    }\n",
       "\n",
       "    .dataframe tbody tr th {\n",
       "        vertical-align: top;\n",
       "    }\n",
       "\n",
       "    .dataframe thead th {\n",
       "        text-align: right;\n",
       "    }\n",
       "</style>\n",
       "<table border=\"1\" class=\"dataframe\">\n",
       "  <thead>\n",
       "    <tr style=\"text-align: right;\">\n",
       "      <th></th>\n",
       "      <th>features</th>\n",
       "      <th>rmse_ytest</th>\n",
       "      <th>rmse_cv</th>\n",
       "      <th>#features</th>\n",
       "      <th>algorithm</th>\n",
       "    </tr>\n",
       "  </thead>\n",
       "  <tbody>\n",
       "    <tr>\n",
       "      <th>0</th>\n",
       "      <td>[season, holiday, workingday, weather, temp, h...</td>\n",
       "      <td>70.719775</td>\n",
       "      <td>73.097572</td>\n",
       "      <td>9</td>\n",
       "      <td>NN</td>\n",
       "    </tr>\n",
       "    <tr>\n",
       "      <th>1</th>\n",
       "      <td>[season, holiday, workingday, weather, temp, h...</td>\n",
       "      <td>92.466876</td>\n",
       "      <td>93.979924</td>\n",
       "      <td>9</td>\n",
       "      <td>boosting</td>\n",
       "    </tr>\n",
       "    <tr>\n",
       "      <th>2</th>\n",
       "      <td>[season, holiday, workingday, weather, temp, h...</td>\n",
       "      <td>88.903196</td>\n",
       "      <td>89.084960</td>\n",
       "      <td>9</td>\n",
       "      <td>knn</td>\n",
       "    </tr>\n",
       "    <tr>\n",
       "      <th>3</th>\n",
       "      <td>[season, holiday, workingday, weather, temp, h...</td>\n",
       "      <td>110.514151</td>\n",
       "      <td>113.750413</td>\n",
       "      <td>9</td>\n",
       "      <td>SVR</td>\n",
       "    </tr>\n",
       "  </tbody>\n",
       "</table>\n",
       "</div>"
      ],
      "text/plain": [
       "                                            features  rmse_ytest     rmse_cv  \\\n",
       "0  [season, holiday, workingday, weather, temp, h...   70.719775   73.097572   \n",
       "1  [season, holiday, workingday, weather, temp, h...   92.466876   93.979924   \n",
       "2  [season, holiday, workingday, weather, temp, h...   88.903196   89.084960   \n",
       "3  [season, holiday, workingday, weather, temp, h...  110.514151  113.750413   \n",
       "\n",
       "   #features algorithm  \n",
       "0          9        NN  \n",
       "1          9  boosting  \n",
       "2          9       knn  \n",
       "3          9       SVR  "
      ]
     },
     "execution_count": 10,
     "metadata": {},
     "output_type": "execute_result"
    }
   ],
   "source": [
    "\n",
    "with open('resuts_df_plus.pkl','rb') as file:\n",
    "    results=pickle.load(file)\n",
    "results"
   ]
  },
  {
   "cell_type": "markdown",
   "id": "a0933be8-8ec8-4b28-815f-32e5a13dd81c",
   "metadata": {},
   "source": [
    "# from now on, I will only work with rf and NN.\n",
    "# I will try using selectKbest just to confirm the right number of features"
   ]
  },
  {
   "cell_type": "code",
   "execution_count": 35,
   "id": "623b4133-1803-4a24-9f66-c781c4826433",
   "metadata": {
    "tags": []
   },
   "outputs": [
    {
     "name": "stdout",
     "output_type": "stream",
     "text": [
      "44 44 44\n",
      "44 44 44\n",
      "34 44 34\n",
      "34 44 34\n",
      "24 44 24\n",
      "24 44 24\n",
      "14 44 14\n",
      "14 44 14\n",
      "4 44 4\n",
      "4 44 4\n",
      "DONE\n"
     ]
    }
   ],
   "source": [
    "new_features=[col for col in new_bikes.columns if col !='total_rentals']\n",
    "results_df=pd.DataFrame(columns=['features','rmse_cv','rmse_y_test','#features','algorithm'])\n",
    "#num_features=15\n",
    "\n",
    "X=new_bikes[new_features]\n",
    "y=new_bikes.total_rentals\n",
    "\n",
    "X_train, X_test, y_train, y_test=train_test_split(X,y,random_state=999)\n",
    "\n",
    "for num_features in range(44,0,-10):\n",
    "    \n",
    "\n",
    "    for model in final_models:\n",
    "\n",
    "        steps=[('columns',ColumnTransformer(\n",
    "                transformers=[(\"cat\", OneHotEncoder(categories='auto',sparse_output=False,handle_unknown='ignore'), [0,3,7,8])],\n",
    "                remainder=\"passthrough\",\n",
    "            )),\n",
    "               ('feature_selection', SelectKBest(f_regression,k=num_features)),\n",
    "              ('standardization',MinMaxScaler()),\n",
    "              ('regressor',model[1])]\n",
    "\n",
    "        pipe=Pipeline(steps=steps)\n",
    "        pipe.fit(X_train,y_train)\n",
    "        mask=pipe.named_steps['feature_selection'].get_support()\n",
    "        column_names=pipe.named_steps['columns'].get_feature_names_out()\n",
    "        selection=[''.join(a.split('__')[1]) for a,b in zip(column_names,mask) if b]\n",
    "        print(num_features,len(mask),len(selection))\n",
    "        y_preds=pipe.predict(X_test)\n",
    "        rmse=np.sqrt(mean_squared_error(y_test,y_preds))\n",
    "        cv=KFold(n_splits=3)\n",
    "        scores=cross_val_score(pipe,X_train,y_train,cv=cv,scoring='neg_mean_squared_error')\n",
    "        results_df.loc[len(results_df.index)] = [selection,np.sqrt(np.abs(scores).mean()),rmse,len(selection) , model[0]]\n",
    "        \n",
    "with open('results_nn_rf.pkl','wb') as f:\n",
    "    pickle.dump(results_df,f)\n",
    "print('DONE')"
   ]
  },
  {
   "cell_type": "code",
   "execution_count": 8,
   "id": "9b108df3-317f-498e-a63e-c48eac56bca6",
   "metadata": {
    "tags": []
   },
   "outputs": [
    {
     "data": {
      "text/plain": [
       "#features\n",
       "4     136.934974\n",
       "14    110.364717\n",
       "24    102.836068\n",
       "34     92.396533\n",
       "44     75.197869\n",
       "Name: rmse_y_test, dtype: float64"
      ]
     },
     "execution_count": 8,
     "metadata": {},
     "output_type": "execute_result"
    }
   ],
   "source": [
    "with open('results_nn_rf.pkl','rb') as f:\n",
    "    results=pickle.load(f)\n",
    "results.groupby('#features')['rmse_y_test'].min()"
   ]
  },
  {
   "cell_type": "code",
   "execution_count": 10,
   "id": "800693b4-b962-4f00-b719-afff89ffd65f",
   "metadata": {
    "tags": []
   },
   "outputs": [
    {
     "data": {
      "text/html": [
       "<div>\n",
       "<style scoped>\n",
       "    .dataframe tbody tr th:only-of-type {\n",
       "        vertical-align: middle;\n",
       "    }\n",
       "\n",
       "    .dataframe tbody tr th {\n",
       "        vertical-align: top;\n",
       "    }\n",
       "\n",
       "    .dataframe thead th {\n",
       "        text-align: right;\n",
       "    }\n",
       "</style>\n",
       "<table border=\"1\" class=\"dataframe\">\n",
       "  <thead>\n",
       "    <tr style=\"text-align: right;\">\n",
       "      <th></th>\n",
       "      <th>features</th>\n",
       "      <th>rmse_cv</th>\n",
       "      <th>rmse_y_test</th>\n",
       "      <th>#features</th>\n",
       "      <th>algorithm</th>\n",
       "    </tr>\n",
       "  </thead>\n",
       "  <tbody>\n",
       "    <tr>\n",
       "      <th>0</th>\n",
       "      <td>[season_1, season_2, season_3, season_4, weath...</td>\n",
       "      <td>NaN</td>\n",
       "      <td>75.197869</td>\n",
       "      <td>44</td>\n",
       "      <td>NN</td>\n",
       "    </tr>\n",
       "    <tr>\n",
       "      <th>1</th>\n",
       "      <td>[season_1, season_2, season_3, season_4, weath...</td>\n",
       "      <td>NaN</td>\n",
       "      <td>75.337740</td>\n",
       "      <td>44</td>\n",
       "      <td>Random Forest</td>\n",
       "    </tr>\n",
       "    <tr>\n",
       "      <th>2</th>\n",
       "      <td>[season_1, season_2, season_3, season_4, weath...</td>\n",
       "      <td>93.959830</td>\n",
       "      <td>92.396533</td>\n",
       "      <td>34</td>\n",
       "      <td>NN</td>\n",
       "    </tr>\n",
       "    <tr>\n",
       "      <th>3</th>\n",
       "      <td>[season_1, season_2, season_3, season_4, weath...</td>\n",
       "      <td>93.845283</td>\n",
       "      <td>94.699846</td>\n",
       "      <td>34</td>\n",
       "      <td>Random Forest</td>\n",
       "    </tr>\n",
       "    <tr>\n",
       "      <th>4</th>\n",
       "      <td>[season_1, season_2, season_3, weather_1, weat...</td>\n",
       "      <td>106.392060</td>\n",
       "      <td>102.836068</td>\n",
       "      <td>24</td>\n",
       "      <td>NN</td>\n",
       "    </tr>\n",
       "    <tr>\n",
       "      <th>5</th>\n",
       "      <td>[season_1, season_2, season_3, weather_1, weat...</td>\n",
       "      <td>109.717373</td>\n",
       "      <td>106.358917</td>\n",
       "      <td>24</td>\n",
       "      <td>Random Forest</td>\n",
       "    </tr>\n",
       "    <tr>\n",
       "      <th>6</th>\n",
       "      <td>[season_1, hour_0, hour_1, hour_2, hour_3, hou...</td>\n",
       "      <td>113.357845</td>\n",
       "      <td>110.364717</td>\n",
       "      <td>14</td>\n",
       "      <td>NN</td>\n",
       "    </tr>\n",
       "    <tr>\n",
       "      <th>7</th>\n",
       "      <td>[season_1, hour_0, hour_1, hour_2, hour_3, hou...</td>\n",
       "      <td>119.779605</td>\n",
       "      <td>119.374670</td>\n",
       "      <td>14</td>\n",
       "      <td>Random Forest</td>\n",
       "    </tr>\n",
       "    <tr>\n",
       "      <th>8</th>\n",
       "      <td>[hour_17, hour_18, temp, humidity]</td>\n",
       "      <td>142.391154</td>\n",
       "      <td>136.934974</td>\n",
       "      <td>4</td>\n",
       "      <td>NN</td>\n",
       "    </tr>\n",
       "    <tr>\n",
       "      <th>9</th>\n",
       "      <td>[hour_17, hour_18, temp, humidity]</td>\n",
       "      <td>146.602553</td>\n",
       "      <td>143.274448</td>\n",
       "      <td>4</td>\n",
       "      <td>Random Forest</td>\n",
       "    </tr>\n",
       "  </tbody>\n",
       "</table>\n",
       "</div>"
      ],
      "text/plain": [
       "                                            features     rmse_cv  rmse_y_test  \\\n",
       "0  [season_1, season_2, season_3, season_4, weath...         NaN    75.197869   \n",
       "1  [season_1, season_2, season_3, season_4, weath...         NaN    75.337740   \n",
       "2  [season_1, season_2, season_3, season_4, weath...   93.959830    92.396533   \n",
       "3  [season_1, season_2, season_3, season_4, weath...   93.845283    94.699846   \n",
       "4  [season_1, season_2, season_3, weather_1, weat...  106.392060   102.836068   \n",
       "5  [season_1, season_2, season_3, weather_1, weat...  109.717373   106.358917   \n",
       "6  [season_1, hour_0, hour_1, hour_2, hour_3, hou...  113.357845   110.364717   \n",
       "7  [season_1, hour_0, hour_1, hour_2, hour_3, hou...  119.779605   119.374670   \n",
       "8                 [hour_17, hour_18, temp, humidity]  142.391154   136.934974   \n",
       "9                 [hour_17, hour_18, temp, humidity]  146.602553   143.274448   \n",
       "\n",
       "   #features      algorithm  \n",
       "0         44             NN  \n",
       "1         44  Random Forest  \n",
       "2         34             NN  \n",
       "3         34  Random Forest  \n",
       "4         24             NN  \n",
       "5         24  Random Forest  \n",
       "6         14             NN  \n",
       "7         14  Random Forest  \n",
       "8          4             NN  \n",
       "9          4  Random Forest  "
      ]
     },
     "execution_count": 10,
     "metadata": {},
     "output_type": "execute_result"
    }
   ],
   "source": [
    "results.sort_values('rmse_y_test')"
   ]
  },
  {
   "cell_type": "markdown",
   "id": "e49b5f46-5a08-44f7-8f43-3496bc2f9ccc",
   "metadata": {},
   "source": [
    "# Tuning the model and analyzing the most relevant features"
   ]
  },
  {
   "cell_type": "markdown",
   "id": "94468ef3-5a36-4525-9cf8-4e0c6cd83c87",
   "metadata": {},
   "source": [
    "## RF"
   ]
  },
  {
   "cell_type": "code",
   "execution_count": 11,
   "id": "57cdf98a-2ab4-4e3d-8152-7e7c323cd8ba",
   "metadata": {
    "tags": []
   },
   "outputs": [
    {
     "data": {
      "text/plain": [
       "{'regressor__n_estimators': [200,\n",
       "  400,\n",
       "  600,\n",
       "  800,\n",
       "  1000,\n",
       "  1200,\n",
       "  1400,\n",
       "  1600,\n",
       "  1800,\n",
       "  2000],\n",
       " 'regressor__max_features': ['log2', 'sqrt'],\n",
       " 'regressor__max_depth': [10, 20, 30, 40, 50, 60, 70, 80, 90, 100, 110, None],\n",
       " 'regressor__min_samples_split': [2, 5, 10],\n",
       " 'regressor__min_samples_leaf': [1, 2, 4],\n",
       " 'regressor__bootstrap': [True, False]}"
      ]
     },
     "execution_count": 11,
     "metadata": {},
     "output_type": "execute_result"
    }
   ],
   "source": [
    "\n",
    "# Number of trees in random forest\n",
    "n_estimators = [int(x) for x in np.linspace(start = 200, stop = 2000, num = 10)]\n",
    "# Number of features to consider at every split\n",
    "max_features = ['log2', 'sqrt']\n",
    "# Maximum number of levels in tree\n",
    "max_depth = [int(x) for x in np.linspace(10, 110, num = 11)]\n",
    "max_depth.append(None)\n",
    "# Minimum number of samples required to split a node\n",
    "min_samples_split = [2, 5, 10]\n",
    "# Minimum number of samples required at each leaf node\n",
    "min_samples_leaf = [1, 2, 4]\n",
    "# Method of selecting samples for training each tree\n",
    "bootstrap = [True, False]\n",
    "# Create the random grid\n",
    "random_grid_pipe = {'regressor__n_estimators': n_estimators,\n",
    "               'regressor__max_features': max_features,\n",
    "               'regressor__max_depth': max_depth,\n",
    "               'regressor__min_samples_split': min_samples_split,\n",
    "               'regressor__min_samples_leaf': min_samples_leaf,\n",
    "               'regressor__bootstrap': bootstrap}\n",
    "random_grid_pipe"
   ]
  },
  {
   "cell_type": "code",
   "execution_count": 36,
   "id": "7ff76d2d-51ae-4690-9910-1e62d3788f6e",
   "metadata": {
    "tags": []
   },
   "outputs": [
    {
     "name": "stdout",
     "output_type": "stream",
     "text": [
      "Done\n"
     ]
    }
   ],
   "source": [
    "new_features=[col for col in new_bikes.columns if col !='total_rentals']\n",
    "\n",
    "X=new_bikes[new_features]\n",
    "y=new_bikes.total_rentals\n",
    "\n",
    "X_train, X_test, y_train, y_test=train_test_split(X,y,random_state=999)\n",
    "\n",
    "steps=[('columns',ColumnTransformer(\n",
    "                transformers=[(\"cat\", OneHotEncoder(categories='auto',sparse_output=False,handle_unknown='ignore'), [0,3,7,8])],\n",
    "                remainder=\"passthrough\",\n",
    "            )),\n",
    "              ('standardization',MinMaxScaler()),\n",
    "              ('regressor',RandomForestRegressor())]\n",
    "\n",
    "final_pipe=Pipeline(steps=steps)\n",
    "\n",
    "\n",
    "rf_random = RandomizedSearchCV(estimator = final_pipe, param_distributions = random_grid_pipe, \n",
    "                               n_iter = 100, cv = 3, verbose=0, random_state=42, \n",
    "                               n_jobs = -1)\n",
    "\n",
    "best_model=rf_random.fit(X_train,y_train)\n",
    "preds=best_model.predict(X_test)\n",
    "np.sqrt(mean_squared_error(y_test,preds))\n",
    "print(\"Done\")"
   ]
  },
  {
   "cell_type": "code",
   "execution_count": 13,
   "id": "ea9c3258-4622-4bfe-8121-fcce5cd60dc1",
   "metadata": {
    "tags": []
   },
   "outputs": [
    {
     "data": {
      "text/plain": [
       "{'n_estimators': 800,\n",
       " 'min_samples_split': 5,\n",
       " 'min_samples_leaf': 1,\n",
       " 'max_features': 'sqrt',\n",
       " 'max_depth': 100,\n",
       " 'bootstrap': False}"
      ]
     },
     "execution_count": 13,
     "metadata": {},
     "output_type": "execute_result"
    }
   ],
   "source": [
    "best_params=best_model.best_params_\n",
    "final_params={k.split('__')[1]: v for k,v in best_params.items()}\n",
    "final_params"
   ]
  },
  {
   "cell_type": "code",
   "execution_count": 14,
   "id": "2ebaaf50-3181-482a-b903-626a35783f3f",
   "metadata": {
    "tags": []
   },
   "outputs": [
    {
     "data": {
      "text/plain": [
       "75.08994530904484"
      ]
     },
     "execution_count": 14,
     "metadata": {},
     "output_type": "execute_result"
    }
   ],
   "source": [
    "new_features=[col for col in new_bikes.columns if col !='total_rentals']\n",
    "\n",
    "X=new_bikes[new_features]\n",
    "y=new_bikes.total_rentals\n",
    "\n",
    "X_train, X_test, y_train, y_test=train_test_split(X,y,random_state=999)\n",
    "\n",
    "steps=[('columns',ColumnTransformer(\n",
    "                transformers=[(\"cat\", OneHotEncoder(categories='auto',sparse_output=False,handle_unknown='ignore'), [0,3,7,8])],\n",
    "                remainder=\"passthrough\",\n",
    "            )),\n",
    "              ('standardization',MinMaxScaler()),\n",
    "              ('regressor',RandomForestRegressor(**final_params))]\n",
    "\n",
    "final_pipe=Pipeline(steps=steps)\n",
    "final_pipe.fit(X_train,y_train)\n",
    "preds=final_pipe.predict(X_test)\n",
    "rmse=np.sqrt(mean_squared_error(y_test,preds))\n",
    "rmse"
   ]
  },
  {
   "cell_type": "code",
   "execution_count": 15,
   "id": "c6e5038a-0d33-47b3-bb65-1af7b369d734",
   "metadata": {
    "tags": []
   },
   "outputs": [],
   "source": [
    "features_importances=final_pipe[-1].feature_importances_\n",
    "features_names=final_pipe[0].get_feature_names_out()"
   ]
  },
  {
   "cell_type": "code",
   "execution_count": 17,
   "id": "125572da-21f6-4d53-974d-4f5ce56bdcc1",
   "metadata": {
    "tags": []
   },
   "outputs": [
    {
     "data": {
      "image/png": "[encoded data removed]",
      "text/plain": [
       "<Figure size 640x480 with 1 Axes>"
      ]
     },
     "metadata": {},
     "output_type": "display_data"
    }
   ],
   "source": [
    "names_importances=[(a.split(\"__\")[1],b) for a,b in zip(features_names,features_importances)]\n",
    "best_features=sorted(names_importances,key=lambda x: x[1], reverse=True)[:5]\n",
    "best_names=[x[0] for x in best_features]\n",
    "best_importances=[x[1] for x in best_features]\n",
    "plt.bar(best_names,best_importances);"
   ]
  },
  {
   "cell_type": "markdown",
   "id": "65fb19e0-6bc7-41cf-aeac-b648a7661a6a",
   "metadata": {},
   "source": [
    "## NN"
   ]
  },
  {
   "cell_type": "code",
   "execution_count": null,
   "id": "36f556f4-ebb5-4c7a-8b79-f25a5ff837b1",
   "metadata": {},
   "outputs": [],
   "source": [
    "new_features=[col for col in new_bikes.columns if col !='total_rentals']\n",
    "param_grid = {\n",
    "    'regressor__hidden_layer_sizes': [(150,100,50), (120,80,40), (100,50,30)],\n",
    "    'regressor__max_iter': [50, 100,400, 700],\n",
    "    'regressor__activation': ['tanh', 'relu'],\n",
    "    'regressor__solver': ['sgd', 'adam'],\n",
    "    'regressor__alpha': [0.0001, 0.05],\n",
    "    'regressor__learning_rate': ['constant','adaptive'],\n",
    "}\n",
    "\n",
    "X=new_bikes[new_features]\n",
    "y=new_bikes.total_rentals\n",
    "\n",
    "X_train, X_test, y_train, y_test=train_test_split(X,y,random_state=999)\n",
    "\n",
    "steps=[('columns',ColumnTransformer(\n",
    "                transformers=[(\"cat\", OneHotEncoder(categories='auto',sparse_output=False,handle_unknown='ignore'), [0,3,7,8])],\n",
    "                remainder=\"passthrough\",\n",
    "            )),\n",
    "              ('standardization',MinMaxScaler()),\n",
    "              ('regressor',MLPRegressor(max_iter=600,random_state=999))]\n",
    "\n",
    "final_pipe=Pipeline(steps=steps)\n",
    "\n",
    "\n",
    "grid = GridSearchCV(final_pipe, param_grid, n_jobs= -1, cv=5)\n",
    "grid.fit(X_train, y_train)\n",
    "\n",
    "print(grid.best_params_) \n",
    "\n",
    "\n",
    "grid_predictions = grid.predict(X_test)\n",
    "print('RMSE: ',np.sqrt(mean_squared_error(y_test,grid_predictions)))\n",
    "print('R2: ',r2_score(y_test,grid_predictions))\n",
    "print(\"Done\")\n",
    "grid.best_params_"
   ]
  },
  {
   "cell_type": "code",
   "execution_count": null,
   "id": "88705916-2a12-473d-8995-600792453f58",
   "metadata": {},
   "outputs": [],
   "source": [
    "{'regressor__activation': 'relu', 'regressor__alpha': 0.0001, 'regressor__hidden_layer_sizes': (120, 80, 40), 'regressor__learning_rate': 'constant', 'regressor__max_iter': 100, 'regressor__solver': 'adam'}\n",
    "RMSE:  71.74701953565547\n",
    "R2:  0.8401473439916183\n",
    "Done\n",
    "{'regressor__activation': 'relu',\n",
    " 'regressor__alpha': 0.0001,\n",
    " 'regressor__hidden_layer_sizes': (120, 80, 40),\n",
    " 'regressor__learning_rate': 'constant',\n",
    " 'regressor__max_iter': 100,\n",
    " 'regressor__solver': 'adam'}"
   ]
  }
 ],
 "metadata": {
  "kernelspec": {
   "display_name": "Python 3 (ipykernel)",
   "language": "python",
   "name": "python3"
  },
  "language_info": {
   "codemirror_mode": {
    "name": "ipython",
    "version": 3
   },
   "file_extension": ".py",
   "mimetype": "text/x-python",
   "name": "python",
   "nbconvert_exporter": "python",
   "pygments_lexer": "ipython3",
   "version": "3.11.5"
  }
 },
 "nbformat": 4,
 "nbformat_minor": 5
}
