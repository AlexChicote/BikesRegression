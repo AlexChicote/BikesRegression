{
 "cells": [
  {
   "cell_type": "code",
   "execution_count": 3,
   "id": "cc839a6b",
   "metadata": {},
   "outputs": [
    {
     "name": "stdout",
     "output_type": "stream",
     "text": [
      "DOOOOOOOOONE\n"
     ]
    }
   ],
   "source": [
    "#imports\n",
    "import pandas as pd\n",
    "import numpy as np\n",
    "from itertools import combinations\n",
    "import pickle\n",
    "import time\n",
    "import webbrowser\n",
    "\n",
    "from sklearn.metrics import mean_squared_error, r2_score\n",
    "from sklearn.linear_model import LinearRegression, Ridge\n",
    "from sklearn.ensemble import RandomForestRegressor\n",
    "from sklearn.svm import SVR, LinearSVR\n",
    "from sklearn.model_selection import cross_val_score, KFold\n",
    "from sklearn.ensemble import RandomForestRegressor\n",
    "from sklearn.model_selection import train_test_split, RandomizedSearchCV\n",
    "from sklearn.preprocessing import StandardScaler,OneHotEncoder,OrdinalEncoder, MinMaxScaler\n",
    "from sklearn.neural_network import MLPRegressor\n",
    "from sklearn.ensemble import GradientBoostingRegressor\n",
    "from sklearn.neighbors import KNeighborsRegressor\n",
    "from sklearn.pipeline import Pipeline, make_pipeline\n",
    "from sklearn.compose import ColumnTransformer\n",
    "from sklearn.feature_selection import SelectKBest, SelectFromModel, f_regression\n",
    "\n",
    "\n",
    "import seaborn as sns\n",
    "import matplotlib.pyplot as plt\n",
    "%matplotlib inline\n",
    "\n",
    "#load the dataframe----bikes\n",
    "url = './data/bikeshare.csv'\n",
    "bikes = pd.read_csv(url, index_col='datetime', parse_dates=True)\n",
    "bikes.columns=[col.lower().replace(\" \",\"_\") if col !='count' else 'total_rentals'for col in bikes.columns]\n",
    "bikes.columns\n",
    "bikes=bikes.drop(['atemp','registered', 'casual'],axis=1)\n",
    "#feature engineering\n",
    "\n",
    "bikes['hour']=bikes.index.hour\n",
    "bikes['weekday']=bikes.index.day_name()\n",
    "features=[col for col in bikes.columns if col !='total_rentals']\n",
    "\n",
    "numerical_features=['temp','windspeed','humidity']\n",
    "\n",
    "#feature engineering\n",
    "\n",
    "bikes['hour']=bikes.index.hour\n",
    "bikes['weekday']=bikes.index.day_name()\n",
    "new_bikes=bikes.copy()\n",
    "columns_to_dummify=['hour','weekday','season']\n",
    "for col in columns_to_dummify:\n",
    "    dummies=pd.get_dummies(bikes[col],prefix=col,drop_first=True)\n",
    "    bikes=pd.concat([bikes,dummies],axis=1)\n",
    "#bikes.drop(['weekday','hour'],axis=1,inplace=True)\n",
    "\n",
    "#classifying features\n",
    "cat_features=[col for col in features if col not in numerical_features]\n",
    "alg_dict={'Linear Regression':LinearRegression(),\n",
    "         'Random Forest': RandomForestRegressor(),\n",
    "         'Ridge': Ridge(),\n",
    "         'SVR':SVR()}\n",
    "models=[('NN',MLPRegressor(max_iter=300,random_state=999)),\n",
    "       (\"boosting\",GradientBoostingRegressor(random_state=999)),\n",
    "        (\"knn\", KNeighborsRegressor()),\n",
    "        ('SVR',LinearSVR())\n",
    "       ]\n",
    "final_models=[('NN',MLPRegressor(max_iter=600,random_state=999)),\n",
    "               ('Random Forest',RandomForestRegressor())]\n",
    "print('DOOOOOOOOONE')"
   ]
  },
  {
   "cell_type": "code",
   "execution_count": null,
   "id": "84ce704f",
   "metadata": {},
   "outputs": [],
   "source": [
    "def train_test_rmse(df, feature_cols):\n",
    "    X = df[feature_cols]\n",
    "    y = df.total_rentals\n",
    "    \n",
    "    X_train, X_test, y_train, y_test = train_test_split(X, y,random_state=123)\n",
    "    \n",
    "    linreg = LinearRegression()\n",
    "    linreg.fit(X_train, y_train)\n",
    "    \n",
    "    y_pred = linreg.predict(X_test)\n",
    "    return np.sqrt(mean_squared_error(y_test, y_pred)),r2_score(y_test,y_pred)\n",
    "\n",
    "def train_test_rmse_and_alg(df, feature_cols,algorithm):\n",
    "    X = df[feature_cols]\n",
    "    y = df.total_rentals\n",
    "    \n",
    "    X_train, X_test, y_train, y_test = train_test_split(X, y,random_state=123)\n",
    "    \n",
    "    alg = algorithm\n",
    "    alg.fit(X_train, y_train)\n",
    "    \n",
    "    y_pred = alg.predict(X_test)\n",
    "    return np.sqrt(mean_squared_error(y_test, y_pred)),r2_score(y_test,y_pred)\n",
    "def train_test_rmse_and_ss(df, feature_cols,algorithm):\n",
    "    X = df[feature_cols]\n",
    "    y = df.total_rentals\n",
    "    \n",
    "    X_train, X_test, y_train, y_test = train_test_split(X, y,random_state=123)\n",
    "    \n",
    "    ss=StandardScaler()\n",
    "    \n",
    "    X_s_train= ss.fit_transform(X_train)\n",
    "    \n",
    "    X_s_test=ss.transform(X_test)\n",
    "    alg=algorithm\n",
    "    \n",
    "    alg.fit(X_s_train, y_train)\n",
    "    \n",
    "    y_pred = alg.predict(X_s_test)\n",
    "\n",
    "    return np.sqrt(mean_squared_error(y_test, y_pred)),r2_score(y_test,y_pred)"
   ]
  },
  {
   "cell_type": "code",
   "execution_count": null,
   "id": "f8a1b6c1",
   "metadata": {
    "tags": []
   },
   "outputs": [],
   "source": [
    "st = time.time()\n",
    "results_df2=pd.DataFrame(columns=['features','rmse','r2','#features','algorithm'])\n",
    "count=0\n",
    "for i in range(1,len(features)+1):\n",
    "    for combo in list(combinations(features, i)):\n",
    "        combo_list=list(combo)\n",
    "        #print(combo_list,type(combo_list))\n",
    "        length=len(combo_list)\n",
    "#         \n",
    "        count+=1\n",
    "        if count%50==0:\n",
    "            print('COUNT',count)\n",
    "        if 'hour' in combo_list:\n",
    "            #print(combo_list)\n",
    "            combo_list.remove('hour')\n",
    "            combo_list.extend([col for col in bikes.columns if 'hour' in col])\n",
    "        if 'weekday' in combo_list:\n",
    "            #print(combo_list)\n",
    "            combo_list.remove('weekday')\n",
    "            combo_list.extend([col for col in bikes.columns if 'weekday' in col])\n",
    "        if 'season' in combo_list:\n",
    "            combo_list.remove('season')\n",
    "            combo_list.extend([col for col in bikes.columns if 'season' in col])\n",
    "                        \n",
    "        for algorithm in alg_dict.items():\n",
    "            if algorithm[0] in ['Ridge','SVR'] and len(combo_list)!=1:\n",
    "                #print(algorithm[0])\n",
    "                rmse,r2=train_test_rmse_and_ss(bikes, combo_list,algorithm[1])\n",
    "                new_row={'features':combo_list,'rmse':rmse,'r2':r2,'#features':length,\\\n",
    "                        'algorithm': algorithm[0]}\n",
    "                results_df2 = results_df2.append(new_row, ignore_index=True)\n",
    "\n",
    "            else:\n",
    "                rmse,r2=train_test_rmse_and_alg(bikes, combo_list,algorithm[1])\n",
    "                new_row={'features':combo_list,'rmse':rmse,'r2':r2,'#features':length,\\\n",
    "                        'algorithm': algorithm[0]}\n",
    "                results_df2 = results_df2.append(new_row, ignore_index=True)\n",
    "\n",
    "et = time.time()\n",
    "  \n",
    "\n",
    "with open('resuts_df2.pkl','wb') as file:\n",
    "    pickle.dump(results_df2,file)\n",
    "f'It took that many minutes {round((et-st)/60,2)} to get it done'\n",
    "url = \"https://www.youtube.com/watch?v=Udt-9J8nzGE\"\n",
    "webbrowser.open(url,new=1)"
   ]
  },
  {
   "cell_type": "markdown",
   "id": "4da71c92-0a99-4082-b4ea-16d8375c29af",
   "metadata": {},
   "source": [
    "# Analyzing Results"
   ]
  },
  {
   "cell_type": "code",
   "execution_count": null,
   "id": "c7ad0693-5af7-4ccf-af7b-590789ba3875",
   "metadata": {},
   "outputs": [],
   "source": [
    "with open('resuts_df2.pkl','rb') as file:\n",
    "    results= pickle.load(file)"
   ]
  },
  {
   "cell_type": "code",
   "execution_count": null,
   "id": "349902ea-1686-4084-b688-b98697426736",
   "metadata": {},
   "outputs": [],
   "source": [
    "#Best algorithm\n",
    "results.groupby('algorithm').rmse.min().sort_values()\n",
    "##E+RandomForest is a clear winner"
   ]
  },
  {
   "cell_type": "code",
   "execution_count": null,
   "id": "8716dd4c-2a96-4a42-b4ec-b0e9483bb171",
   "metadata": {},
   "outputs": [],
   "source": [
    "groupy=results.groupby('#features')[['rmse','r2']].mean()\n",
    "COLOR_R2 = \"#69b3a2\"\n",
    "COLOR_RMSE = \"#3399e6\"\n",
    "\n",
    "fig, ax1 = plt.subplots(figsize=(6, 6))\n",
    "ax2 = ax1.twinx()\n",
    "\n",
    "ax1.plot(groupy.index, groupy.r2, color=COLOR_R2, lw=3)\n",
    "ax2.plot(groupy.index, groupy.rmse, color=COLOR_RMSE, lw=4)\n",
    "\n",
    "ax1.set_xlabel(\"Number of features\")\n",
    "ax1.set_ylabel(\"R2\", color=COLOR_R2, fontsize=14)\n",
    "ax1.tick_params(axis=\"y\", labelcolor=COLOR_R2)\n",
    "\n",
    "ax2.set_ylabel(\"RMSE\", color=COLOR_RMSE, fontsize=14)\n",
    "ax2.tick_params(axis=\"y\", labelcolor=COLOR_RMSE)\n",
    "\n",
    "fig.suptitle(\"RMSE down, R2 up\", fontsize=20)\n",
    "fig.autofmt_xdate()\n",
    "#Obvoiously, to select all features seems the best option"
   ]
  },
  {
   "cell_type": "code",
   "execution_count": null,
   "id": "aa530ada-6273-40d0-8b81-01be1ed22e8e",
   "metadata": {},
   "outputs": [],
   "source": [
    "results.sort_values('rmse').groupby('algorithm').first()\n",
    "#Except for SVR all get the best results with alomst all features"
   ]
  },
  {
   "cell_type": "code",
   "execution_count": null,
   "id": "fdca513d-d936-4dcb-9391-5f6f766901bc",
   "metadata": {},
   "outputs": [],
   "source": [
    "#Finally, just confirming our results, will anayze the score in RandomForest based on features\n",
    "results[results['algorithm']=='Random Forest'].groupby('#features')[['rmse','r2']].mean()"
   ]
  },
  {
   "cell_type": "code",
   "execution_count": null,
   "id": "6df5f455-9b55-416b-8c50-f29487337550",
   "metadata": {},
   "outputs": [],
   "source": [
    "groupy_rf=results[results['algorithm']=='Random Forest'].groupby('#features')[['rmse','r2']].mean()\n",
    "\n",
    "COLOR_R2 = \"#69b3a2\"\n",
    "COLOR_RMSE = \"#3399e6\"\n",
    "\n",
    "fig, ax1 = plt.subplots(figsize=(6, 6))\n",
    "ax2 = ax1.twinx()\n",
    "\n",
    "ax1.plot(groupy_rf.index, groupy.r2, color=COLOR_R2, lw=3)\n",
    "ax2.plot(groupy_rf.index, groupy.rmse, color=COLOR_RMSE, lw=4)\n",
    "\n",
    "ax1.set_xlabel(\"Number of features\")\n",
    "ax1.set_ylabel(\"R2\", color=COLOR_R2, fontsize=14)\n",
    "ax1.tick_params(axis=\"y\", labelcolor=COLOR_R2)\n",
    "\n",
    "ax2.set_ylabel(\"RMSE\", color=COLOR_RMSE, fontsize=14)\n",
    "ax2.tick_params(axis=\"y\", labelcolor=COLOR_RMSE)\n",
    "\n",
    "fig.suptitle(\"RMSE down, R2 up with Random Forest\", fontsize=20)\n",
    "fig.autofmt_xdate()\n",
    "#Obvoiously, to select all features seems the best option"
   ]
  },
  {
   "cell_type": "code",
   "execution_count": null,
   "id": "edbbdee7-931a-4b4d-a6f1-5c15f86691c7",
   "metadata": {},
   "outputs": [],
   "source": [
    "#Curiosity what feature/s are left out in the best solution for LinearRegression and Ridge\n",
    "for algorithm in alg_dict.keys():\n",
    "    rmse_min=results[results['algorithm']==algorithm]['rmse'].min()\n",
    "    list_fea=results[(results['algorithm']==algorithm)&(results['rmse']==rmse_min)]['features'].values[0]\n",
    "    print(algorithm,rmse_min,[col for col in list_fea if '_' not in col and col not in features])"
   ]
  },
  {
   "cell_type": "markdown",
   "id": "d7f3cba7-d653-47bd-9767-3a8aced5617e",
   "metadata": {},
   "source": [
    "# Using Pipeline, crossvalidation and SelectKbest to try new models"
   ]
  },
  {
   "cell_type": "code",
   "execution_count": null,
   "id": "7499214b-f7b9-4184-80aa-6e1f2ba69b0b",
   "metadata": {
    "tags": []
   },
   "outputs": [],
   "source": [
    "st = time.time()\n",
    "results_df=pd.DataFrame(columns=['features','rmse_ytest','rmse_cv','#features','algorithm'])\n",
    "new_features=[col for col in new_bikes.columns if col !='total_rentals']\n",
    "numerical_features=['temp','windspeed','humidity']\n",
    "categorical_features=[col for col in new_features if col not in numerical_features]\n",
    "\n",
    "count=0\n",
    "\n",
    "                        \n",
    "for model in models:\n",
    "    X=new_bikes[new_features]\n",
    "    y=new_bikes.total_rentals\n",
    "\n",
    "    X_train, X_test, y_train, y_test=train_test_split(X,y,random_state=999)\n",
    "\n",
    "    steps=[('columns',ColumnTransformer(\n",
    "            transformers=[(\"cat\", OneHotEncoder(categories='auto',sparse=False,handle_unknown='ignore'), categorical_features)],\n",
    "            remainder=\"passthrough\",\n",
    "            )),\n",
    "          ('standardization',StandardScaler()),\n",
    "          ('regressor',model[1])]\n",
    "\n",
    "    pipeline=Pipeline(steps=steps)\n",
    "#             cv=KFold(n_splits=3)\n",
    "#             scores=cross_val_score(pipeline,X_train,y_train,cv=cv,scoring='neg_mean_squared_error')\n",
    "\n",
    "    pipeline.fit(X_train,y_train)\n",
    "    y_preds=pipeline.predict(X_test)\n",
    "    rmse=np.sqrt(mean_squared_error(y_test,y_preds))\n",
    "    cv=KFold()\n",
    "    scores=cross_val_score(pipeline,X_train,y_train,cv=cv,scoring='neg_mean_squared_error')\n",
    "\n",
    "\n",
    "    new_row={'features':new_features,\n",
    "             'rmse_ytest':rmse,\n",
    "             'rmse_cv':np.sqrt(np.abs(scores)).mean(),\\\n",
    "             '#features':len(new_features),\\\n",
    "            'algorithm': model[0]}\n",
    "    results_df = results_df.append(new_row, ignore_index=True)\n",
    "\n",
    "et = time.time()\n",
    "\n",
    "\n",
    "with open('resuts_df_plus.pkl','wb') as file:\n",
    "    pickle.dump(results_df,file)\n",
    "f'It took that many minutes {round((et-st)/60,2)} to get it done'\n",
    "url = \"https://www.youtube.com/watch?v=Udt-9J8nzGE\"\n",
    "webbrowser.open(url,new=1)"
   ]
  },
  {
   "cell_type": "markdown",
   "id": "a0933be8-8ec8-4b28-815f-32e5a13dd81c",
   "metadata": {},
   "source": [
    "# from now on, I will only work with rf and NN.\n",
    "# I will try using selectKbest just to confirm the right number of features"
   ]
  },
  {
   "cell_type": "code",
   "execution_count": 3,
   "id": "623b4133-1803-4a24-9f66-c781c4826433",
   "metadata": {
    "collapsed": true,
    "jupyter": {
     "outputs_hidden": true
    },
    "tags": []
   },
   "outputs": [
    {
     "name": "stderr",
     "output_type": "stream",
     "text": [
      "/Users/fcbnyc/anaconda3/lib/python3.11/site-packages/sklearn/preprocessing/_encoders.py:972: FutureWarning: `sparse` was renamed to `sparse_output` in version 1.2 and will be removed in 1.4. `sparse_output` is ignored unless you leave `sparse` to its default value.\n",
      "  warnings.warn(\n",
      "/Users/fcbnyc/anaconda3/lib/python3.11/site-packages/sklearn/neural_network/_multilayer_perceptron.py:691: ConvergenceWarning: Stochastic Optimizer: Maximum iterations (600) reached and the optimization hasn't converged yet.\n",
      "  warnings.warn(\n",
      "/Users/fcbnyc/anaconda3/lib/python3.11/site-packages/sklearn/preprocessing/_encoders.py:972: FutureWarning: `sparse` was renamed to `sparse_output` in version 1.2 and will be removed in 1.4. `sparse_output` is ignored unless you leave `sparse` to its default value.\n",
      "  warnings.warn(\n"
     ]
    },
    {
     "name": "stdout",
     "output_type": "stream",
     "text": [
      "44 44 44\n"
     ]
    },
    {
     "name": "stderr",
     "output_type": "stream",
     "text": [
      "/Users/fcbnyc/anaconda3/lib/python3.11/site-packages/sklearn/neural_network/_multilayer_perceptron.py:691: ConvergenceWarning: Stochastic Optimizer: Maximum iterations (600) reached and the optimization hasn't converged yet.\n",
      "  warnings.warn(\n",
      "/Users/fcbnyc/anaconda3/lib/python3.11/site-packages/sklearn/preprocessing/_encoders.py:972: FutureWarning: `sparse` was renamed to `sparse_output` in version 1.2 and will be removed in 1.4. `sparse_output` is ignored unless you leave `sparse` to its default value.\n",
      "  warnings.warn(\n",
      "/Users/fcbnyc/anaconda3/lib/python3.11/site-packages/sklearn/neural_network/_multilayer_perceptron.py:691: ConvergenceWarning: Stochastic Optimizer: Maximum iterations (600) reached and the optimization hasn't converged yet.\n",
      "  warnings.warn(\n",
      "/Users/fcbnyc/anaconda3/lib/python3.11/site-packages/sklearn/preprocessing/_encoders.py:972: FutureWarning: `sparse` was renamed to `sparse_output` in version 1.2 and will be removed in 1.4. `sparse_output` is ignored unless you leave `sparse` to its default value.\n",
      "  warnings.warn(\n",
      "/Users/fcbnyc/anaconda3/lib/python3.11/site-packages/sklearn/neural_network/_multilayer_perceptron.py:691: ConvergenceWarning: Stochastic Optimizer: Maximum iterations (600) reached and the optimization hasn't converged yet.\n",
      "  warnings.warn(\n",
      "/Users/fcbnyc/anaconda3/lib/python3.11/site-packages/sklearn/preprocessing/_encoders.py:972: FutureWarning: `sparse` was renamed to `sparse_output` in version 1.2 and will be removed in 1.4. `sparse_output` is ignored unless you leave `sparse` to its default value.\n",
      "  warnings.warn(\n",
      "/Users/fcbnyc/anaconda3/lib/python3.11/site-packages/sklearn/neural_network/_multilayer_perceptron.py:691: ConvergenceWarning: Stochastic Optimizer: Maximum iterations (600) reached and the optimization hasn't converged yet.\n",
      "  warnings.warn(\n",
      "/Users/fcbnyc/anaconda3/lib/python3.11/site-packages/sklearn/preprocessing/_encoders.py:972: FutureWarning: `sparse` was renamed to `sparse_output` in version 1.2 and will be removed in 1.4. `sparse_output` is ignored unless you leave `sparse` to its default value.\n",
      "  warnings.warn(\n",
      "/Users/fcbnyc/anaconda3/lib/python3.11/site-packages/sklearn/model_selection/_validation.py:425: FitFailedWarning: \n",
      "1 fits failed out of a total of 5.\n",
      "The score on these train-test partitions for these parameters will be set to nan.\n",
      "If these failures are not expected, you can try to debug them by setting error_score='raise'.\n",
      "\n",
      "Below are more details about the failures:\n",
      "--------------------------------------------------------------------------------\n",
      "1 fits failed with the following error:\n",
      "Traceback (most recent call last):\n",
      "  File \"/Users/fcbnyc/anaconda3/lib/python3.11/site-packages/sklearn/model_selection/_validation.py\", line 732, in _fit_and_score\n",
      "    estimator.fit(X_train, y_train, **fit_params)\n",
      "  File \"/Users/fcbnyc/anaconda3/lib/python3.11/site-packages/sklearn/base.py\", line 1151, in wrapper\n",
      "    return fit_method(estimator, *args, **kwargs)\n",
      "           ^^^^^^^^^^^^^^^^^^^^^^^^^^^^^^^^^^^^^^\n",
      "  File \"/Users/fcbnyc/anaconda3/lib/python3.11/site-packages/sklearn/pipeline.py\", line 416, in fit\n",
      "    Xt = self._fit(X, y, **fit_params_steps)\n",
      "         ^^^^^^^^^^^^^^^^^^^^^^^^^^^^^^^^^^^\n",
      "  File \"/Users/fcbnyc/anaconda3/lib/python3.11/site-packages/sklearn/pipeline.py\", line 370, in _fit\n",
      "    X, fitted_transformer = fit_transform_one_cached(\n",
      "                            ^^^^^^^^^^^^^^^^^^^^^^^^^\n",
      "  File \"/Users/fcbnyc/anaconda3/lib/python3.11/site-packages/joblib/memory.py\", line 349, in __call__\n",
      "    return self.func(*args, **kwargs)\n",
      "           ^^^^^^^^^^^^^^^^^^^^^^^^^^\n",
      "  File \"/Users/fcbnyc/anaconda3/lib/python3.11/site-packages/sklearn/pipeline.py\", line 950, in _fit_transform_one\n",
      "    res = transformer.fit_transform(X, y, **fit_params)\n",
      "          ^^^^^^^^^^^^^^^^^^^^^^^^^^^^^^^^^^^^^^^^^^^^^\n",
      "  File \"/Users/fcbnyc/anaconda3/lib/python3.11/site-packages/sklearn/utils/_set_output.py\", line 140, in wrapped\n",
      "    data_to_wrap = f(self, X, *args, **kwargs)\n",
      "                   ^^^^^^^^^^^^^^^^^^^^^^^^^^^\n",
      "  File \"/Users/fcbnyc/anaconda3/lib/python3.11/site-packages/sklearn/base.py\", line 918, in fit_transform\n",
      "    return self.fit(X, y, **fit_params).transform(X)\n",
      "           ^^^^^^^^^^^^^^^^^^^^^^^^^^^^\n",
      "  File \"/Users/fcbnyc/anaconda3/lib/python3.11/site-packages/sklearn/base.py\", line 1151, in wrapper\n",
      "    return fit_method(estimator, *args, **kwargs)\n",
      "           ^^^^^^^^^^^^^^^^^^^^^^^^^^^^^^^^^^^^^^\n",
      "  File \"/Users/fcbnyc/anaconda3/lib/python3.11/site-packages/sklearn/feature_selection/_univariate_selection.py\", line 502, in fit\n",
      "    self._check_params(X, y)\n",
      "  File \"/Users/fcbnyc/anaconda3/lib/python3.11/site-packages/sklearn/feature_selection/_univariate_selection.py\", line 703, in _check_params\n",
      "    raise ValueError(\n",
      "ValueError: k should be <= n_features = 43; got 44. Use k='all' to return all features.\n",
      "\n",
      "  warnings.warn(some_fits_failed_message, FitFailedWarning)\n",
      "/Users/fcbnyc/anaconda3/lib/python3.11/site-packages/sklearn/preprocessing/_encoders.py:972: FutureWarning: `sparse` was renamed to `sparse_output` in version 1.2 and will be removed in 1.4. `sparse_output` is ignored unless you leave `sparse` to its default value.\n",
      "  warnings.warn(\n"
     ]
    },
    {
     "name": "stdout",
     "output_type": "stream",
     "text": [
      "44 44 44\n"
     ]
    },
    {
     "name": "stderr",
     "output_type": "stream",
     "text": [
      "/Users/fcbnyc/anaconda3/lib/python3.11/site-packages/sklearn/preprocessing/_encoders.py:972: FutureWarning: `sparse` was renamed to `sparse_output` in version 1.2 and will be removed in 1.4. `sparse_output` is ignored unless you leave `sparse` to its default value.\n",
      "  warnings.warn(\n",
      "/Users/fcbnyc/anaconda3/lib/python3.11/site-packages/sklearn/preprocessing/_encoders.py:972: FutureWarning: `sparse` was renamed to `sparse_output` in version 1.2 and will be removed in 1.4. `sparse_output` is ignored unless you leave `sparse` to its default value.\n",
      "  warnings.warn(\n",
      "/Users/fcbnyc/anaconda3/lib/python3.11/site-packages/sklearn/preprocessing/_encoders.py:972: FutureWarning: `sparse` was renamed to `sparse_output` in version 1.2 and will be removed in 1.4. `sparse_output` is ignored unless you leave `sparse` to its default value.\n",
      "  warnings.warn(\n",
      "/Users/fcbnyc/anaconda3/lib/python3.11/site-packages/sklearn/preprocessing/_encoders.py:972: FutureWarning: `sparse` was renamed to `sparse_output` in version 1.2 and will be removed in 1.4. `sparse_output` is ignored unless you leave `sparse` to its default value.\n",
      "  warnings.warn(\n",
      "/Users/fcbnyc/anaconda3/lib/python3.11/site-packages/sklearn/preprocessing/_encoders.py:972: FutureWarning: `sparse` was renamed to `sparse_output` in version 1.2 and will be removed in 1.4. `sparse_output` is ignored unless you leave `sparse` to its default value.\n",
      "  warnings.warn(\n",
      "/Users/fcbnyc/anaconda3/lib/python3.11/site-packages/sklearn/model_selection/_validation.py:425: FitFailedWarning: \n",
      "1 fits failed out of a total of 5.\n",
      "The score on these train-test partitions for these parameters will be set to nan.\n",
      "If these failures are not expected, you can try to debug them by setting error_score='raise'.\n",
      "\n",
      "Below are more details about the failures:\n",
      "--------------------------------------------------------------------------------\n",
      "1 fits failed with the following error:\n",
      "Traceback (most recent call last):\n",
      "  File \"/Users/fcbnyc/anaconda3/lib/python3.11/site-packages/sklearn/model_selection/_validation.py\", line 732, in _fit_and_score\n",
      "    estimator.fit(X_train, y_train, **fit_params)\n",
      "  File \"/Users/fcbnyc/anaconda3/lib/python3.11/site-packages/sklearn/base.py\", line 1151, in wrapper\n",
      "    return fit_method(estimator, *args, **kwargs)\n",
      "           ^^^^^^^^^^^^^^^^^^^^^^^^^^^^^^^^^^^^^^\n",
      "  File \"/Users/fcbnyc/anaconda3/lib/python3.11/site-packages/sklearn/pipeline.py\", line 416, in fit\n",
      "    Xt = self._fit(X, y, **fit_params_steps)\n",
      "         ^^^^^^^^^^^^^^^^^^^^^^^^^^^^^^^^^^^\n",
      "  File \"/Users/fcbnyc/anaconda3/lib/python3.11/site-packages/sklearn/pipeline.py\", line 370, in _fit\n",
      "    X, fitted_transformer = fit_transform_one_cached(\n",
      "                            ^^^^^^^^^^^^^^^^^^^^^^^^^\n",
      "  File \"/Users/fcbnyc/anaconda3/lib/python3.11/site-packages/joblib/memory.py\", line 349, in __call__\n",
      "    return self.func(*args, **kwargs)\n",
      "           ^^^^^^^^^^^^^^^^^^^^^^^^^^\n",
      "  File \"/Users/fcbnyc/anaconda3/lib/python3.11/site-packages/sklearn/pipeline.py\", line 950, in _fit_transform_one\n",
      "    res = transformer.fit_transform(X, y, **fit_params)\n",
      "          ^^^^^^^^^^^^^^^^^^^^^^^^^^^^^^^^^^^^^^^^^^^^^\n",
      "  File \"/Users/fcbnyc/anaconda3/lib/python3.11/site-packages/sklearn/utils/_set_output.py\", line 140, in wrapped\n",
      "    data_to_wrap = f(self, X, *args, **kwargs)\n",
      "                   ^^^^^^^^^^^^^^^^^^^^^^^^^^^\n",
      "  File \"/Users/fcbnyc/anaconda3/lib/python3.11/site-packages/sklearn/base.py\", line 918, in fit_transform\n",
      "    return self.fit(X, y, **fit_params).transform(X)\n",
      "           ^^^^^^^^^^^^^^^^^^^^^^^^^^^^\n",
      "  File \"/Users/fcbnyc/anaconda3/lib/python3.11/site-packages/sklearn/base.py\", line 1151, in wrapper\n",
      "    return fit_method(estimator, *args, **kwargs)\n",
      "           ^^^^^^^^^^^^^^^^^^^^^^^^^^^^^^^^^^^^^^\n",
      "  File \"/Users/fcbnyc/anaconda3/lib/python3.11/site-packages/sklearn/feature_selection/_univariate_selection.py\", line 502, in fit\n",
      "    self._check_params(X, y)\n",
      "  File \"/Users/fcbnyc/anaconda3/lib/python3.11/site-packages/sklearn/feature_selection/_univariate_selection.py\", line 703, in _check_params\n",
      "    raise ValueError(\n",
      "ValueError: k should be <= n_features = 43; got 44. Use k='all' to return all features.\n",
      "\n",
      "  warnings.warn(some_fits_failed_message, FitFailedWarning)\n",
      "/Users/fcbnyc/anaconda3/lib/python3.11/site-packages/sklearn/preprocessing/_encoders.py:972: FutureWarning: `sparse` was renamed to `sparse_output` in version 1.2 and will be removed in 1.4. `sparse_output` is ignored unless you leave `sparse` to its default value.\n",
      "  warnings.warn(\n",
      "/Users/fcbnyc/anaconda3/lib/python3.11/site-packages/sklearn/neural_network/_multilayer_perceptron.py:691: ConvergenceWarning: Stochastic Optimizer: Maximum iterations (600) reached and the optimization hasn't converged yet.\n",
      "  warnings.warn(\n",
      "/Users/fcbnyc/anaconda3/lib/python3.11/site-packages/sklearn/preprocessing/_encoders.py:972: FutureWarning: `sparse` was renamed to `sparse_output` in version 1.2 and will be removed in 1.4. `sparse_output` is ignored unless you leave `sparse` to its default value.\n",
      "  warnings.warn(\n"
     ]
    },
    {
     "name": "stdout",
     "output_type": "stream",
     "text": [
      "29 44 29\n"
     ]
    },
    {
     "name": "stderr",
     "output_type": "stream",
     "text": [
      "/Users/fcbnyc/anaconda3/lib/python3.11/site-packages/sklearn/neural_network/_multilayer_perceptron.py:691: ConvergenceWarning: Stochastic Optimizer: Maximum iterations (600) reached and the optimization hasn't converged yet.\n",
      "  warnings.warn(\n",
      "/Users/fcbnyc/anaconda3/lib/python3.11/site-packages/sklearn/preprocessing/_encoders.py:972: FutureWarning: `sparse` was renamed to `sparse_output` in version 1.2 and will be removed in 1.4. `sparse_output` is ignored unless you leave `sparse` to its default value.\n",
      "  warnings.warn(\n",
      "/Users/fcbnyc/anaconda3/lib/python3.11/site-packages/sklearn/neural_network/_multilayer_perceptron.py:691: ConvergenceWarning: Stochastic Optimizer: Maximum iterations (600) reached and the optimization hasn't converged yet.\n",
      "  warnings.warn(\n",
      "/Users/fcbnyc/anaconda3/lib/python3.11/site-packages/sklearn/preprocessing/_encoders.py:972: FutureWarning: `sparse` was renamed to `sparse_output` in version 1.2 and will be removed in 1.4. `sparse_output` is ignored unless you leave `sparse` to its default value.\n",
      "  warnings.warn(\n",
      "/Users/fcbnyc/anaconda3/lib/python3.11/site-packages/sklearn/neural_network/_multilayer_perceptron.py:691: ConvergenceWarning: Stochastic Optimizer: Maximum iterations (600) reached and the optimization hasn't converged yet.\n",
      "  warnings.warn(\n",
      "/Users/fcbnyc/anaconda3/lib/python3.11/site-packages/sklearn/preprocessing/_encoders.py:972: FutureWarning: `sparse` was renamed to `sparse_output` in version 1.2 and will be removed in 1.4. `sparse_output` is ignored unless you leave `sparse` to its default value.\n",
      "  warnings.warn(\n",
      "/Users/fcbnyc/anaconda3/lib/python3.11/site-packages/sklearn/neural_network/_multilayer_perceptron.py:691: ConvergenceWarning: Stochastic Optimizer: Maximum iterations (600) reached and the optimization hasn't converged yet.\n",
      "  warnings.warn(\n",
      "/Users/fcbnyc/anaconda3/lib/python3.11/site-packages/sklearn/preprocessing/_encoders.py:972: FutureWarning: `sparse` was renamed to `sparse_output` in version 1.2 and will be removed in 1.4. `sparse_output` is ignored unless you leave `sparse` to its default value.\n",
      "  warnings.warn(\n",
      "/Users/fcbnyc/anaconda3/lib/python3.11/site-packages/sklearn/neural_network/_multilayer_perceptron.py:691: ConvergenceWarning: Stochastic Optimizer: Maximum iterations (600) reached and the optimization hasn't converged yet.\n",
      "  warnings.warn(\n",
      "/Users/fcbnyc/anaconda3/lib/python3.11/site-packages/sklearn/preprocessing/_encoders.py:972: FutureWarning: `sparse` was renamed to `sparse_output` in version 1.2 and will be removed in 1.4. `sparse_output` is ignored unless you leave `sparse` to its default value.\n",
      "  warnings.warn(\n"
     ]
    },
    {
     "name": "stdout",
     "output_type": "stream",
     "text": [
      "29 44 29\n"
     ]
    },
    {
     "name": "stderr",
     "output_type": "stream",
     "text": [
      "/Users/fcbnyc/anaconda3/lib/python3.11/site-packages/sklearn/preprocessing/_encoders.py:972: FutureWarning: `sparse` was renamed to `sparse_output` in version 1.2 and will be removed in 1.4. `sparse_output` is ignored unless you leave `sparse` to its default value.\n",
      "  warnings.warn(\n",
      "/Users/fcbnyc/anaconda3/lib/python3.11/site-packages/sklearn/preprocessing/_encoders.py:972: FutureWarning: `sparse` was renamed to `sparse_output` in version 1.2 and will be removed in 1.4. `sparse_output` is ignored unless you leave `sparse` to its default value.\n",
      "  warnings.warn(\n",
      "/Users/fcbnyc/anaconda3/lib/python3.11/site-packages/sklearn/preprocessing/_encoders.py:972: FutureWarning: `sparse` was renamed to `sparse_output` in version 1.2 and will be removed in 1.4. `sparse_output` is ignored unless you leave `sparse` to its default value.\n",
      "  warnings.warn(\n",
      "/Users/fcbnyc/anaconda3/lib/python3.11/site-packages/sklearn/preprocessing/_encoders.py:972: FutureWarning: `sparse` was renamed to `sparse_output` in version 1.2 and will be removed in 1.4. `sparse_output` is ignored unless you leave `sparse` to its default value.\n",
      "  warnings.warn(\n",
      "/Users/fcbnyc/anaconda3/lib/python3.11/site-packages/sklearn/preprocessing/_encoders.py:972: FutureWarning: `sparse` was renamed to `sparse_output` in version 1.2 and will be removed in 1.4. `sparse_output` is ignored unless you leave `sparse` to its default value.\n",
      "  warnings.warn(\n",
      "/Users/fcbnyc/anaconda3/lib/python3.11/site-packages/sklearn/preprocessing/_encoders.py:972: FutureWarning: `sparse` was renamed to `sparse_output` in version 1.2 and will be removed in 1.4. `sparse_output` is ignored unless you leave `sparse` to its default value.\n",
      "  warnings.warn(\n",
      "/Users/fcbnyc/anaconda3/lib/python3.11/site-packages/sklearn/neural_network/_multilayer_perceptron.py:691: ConvergenceWarning: Stochastic Optimizer: Maximum iterations (600) reached and the optimization hasn't converged yet.\n",
      "  warnings.warn(\n",
      "/Users/fcbnyc/anaconda3/lib/python3.11/site-packages/sklearn/preprocessing/_encoders.py:972: FutureWarning: `sparse` was renamed to `sparse_output` in version 1.2 and will be removed in 1.4. `sparse_output` is ignored unless you leave `sparse` to its default value.\n",
      "  warnings.warn(\n"
     ]
    },
    {
     "name": "stdout",
     "output_type": "stream",
     "text": [
      "14 44 14\n"
     ]
    },
    {
     "name": "stderr",
     "output_type": "stream",
     "text": [
      "/Users/fcbnyc/anaconda3/lib/python3.11/site-packages/sklearn/neural_network/_multilayer_perceptron.py:691: ConvergenceWarning: Stochastic Optimizer: Maximum iterations (600) reached and the optimization hasn't converged yet.\n",
      "  warnings.warn(\n",
      "/Users/fcbnyc/anaconda3/lib/python3.11/site-packages/sklearn/preprocessing/_encoders.py:972: FutureWarning: `sparse` was renamed to `sparse_output` in version 1.2 and will be removed in 1.4. `sparse_output` is ignored unless you leave `sparse` to its default value.\n",
      "  warnings.warn(\n",
      "/Users/fcbnyc/anaconda3/lib/python3.11/site-packages/sklearn/neural_network/_multilayer_perceptron.py:691: ConvergenceWarning: Stochastic Optimizer: Maximum iterations (600) reached and the optimization hasn't converged yet.\n",
      "  warnings.warn(\n",
      "/Users/fcbnyc/anaconda3/lib/python3.11/site-packages/sklearn/preprocessing/_encoders.py:972: FutureWarning: `sparse` was renamed to `sparse_output` in version 1.2 and will be removed in 1.4. `sparse_output` is ignored unless you leave `sparse` to its default value.\n",
      "  warnings.warn(\n",
      "/Users/fcbnyc/anaconda3/lib/python3.11/site-packages/sklearn/neural_network/_multilayer_perceptron.py:691: ConvergenceWarning: Stochastic Optimizer: Maximum iterations (600) reached and the optimization hasn't converged yet.\n",
      "  warnings.warn(\n",
      "/Users/fcbnyc/anaconda3/lib/python3.11/site-packages/sklearn/preprocessing/_encoders.py:972: FutureWarning: `sparse` was renamed to `sparse_output` in version 1.2 and will be removed in 1.4. `sparse_output` is ignored unless you leave `sparse` to its default value.\n",
      "  warnings.warn(\n",
      "/Users/fcbnyc/anaconda3/lib/python3.11/site-packages/sklearn/neural_network/_multilayer_perceptron.py:691: ConvergenceWarning: Stochastic Optimizer: Maximum iterations (600) reached and the optimization hasn't converged yet.\n",
      "  warnings.warn(\n",
      "/Users/fcbnyc/anaconda3/lib/python3.11/site-packages/sklearn/preprocessing/_encoders.py:972: FutureWarning: `sparse` was renamed to `sparse_output` in version 1.2 and will be removed in 1.4. `sparse_output` is ignored unless you leave `sparse` to its default value.\n",
      "  warnings.warn(\n",
      "/Users/fcbnyc/anaconda3/lib/python3.11/site-packages/sklearn/neural_network/_multilayer_perceptron.py:691: ConvergenceWarning: Stochastic Optimizer: Maximum iterations (600) reached and the optimization hasn't converged yet.\n",
      "  warnings.warn(\n",
      "/Users/fcbnyc/anaconda3/lib/python3.11/site-packages/sklearn/preprocessing/_encoders.py:972: FutureWarning: `sparse` was renamed to `sparse_output` in version 1.2 and will be removed in 1.4. `sparse_output` is ignored unless you leave `sparse` to its default value.\n",
      "  warnings.warn(\n"
     ]
    },
    {
     "name": "stdout",
     "output_type": "stream",
     "text": [
      "14 44 14\n"
     ]
    },
    {
     "name": "stderr",
     "output_type": "stream",
     "text": [
      "/Users/fcbnyc/anaconda3/lib/python3.11/site-packages/sklearn/preprocessing/_encoders.py:972: FutureWarning: `sparse` was renamed to `sparse_output` in version 1.2 and will be removed in 1.4. `sparse_output` is ignored unless you leave `sparse` to its default value.\n",
      "  warnings.warn(\n",
      "/Users/fcbnyc/anaconda3/lib/python3.11/site-packages/sklearn/preprocessing/_encoders.py:972: FutureWarning: `sparse` was renamed to `sparse_output` in version 1.2 and will be removed in 1.4. `sparse_output` is ignored unless you leave `sparse` to its default value.\n",
      "  warnings.warn(\n",
      "/Users/fcbnyc/anaconda3/lib/python3.11/site-packages/sklearn/preprocessing/_encoders.py:972: FutureWarning: `sparse` was renamed to `sparse_output` in version 1.2 and will be removed in 1.4. `sparse_output` is ignored unless you leave `sparse` to its default value.\n",
      "  warnings.warn(\n",
      "/Users/fcbnyc/anaconda3/lib/python3.11/site-packages/sklearn/preprocessing/_encoders.py:972: FutureWarning: `sparse` was renamed to `sparse_output` in version 1.2 and will be removed in 1.4. `sparse_output` is ignored unless you leave `sparse` to its default value.\n",
      "  warnings.warn(\n",
      "/Users/fcbnyc/anaconda3/lib/python3.11/site-packages/sklearn/preprocessing/_encoders.py:972: FutureWarning: `sparse` was renamed to `sparse_output` in version 1.2 and will be removed in 1.4. `sparse_output` is ignored unless you leave `sparse` to its default value.\n",
      "  warnings.warn(\n"
     ]
    },
    {
     "name": "stdout",
     "output_type": "stream",
     "text": [
      "DONE\n"
     ]
    }
   ],
   "source": [
    "new_features=[col for col in new_bikes.columns if col !='total_rentals']\n",
    "results_df=pd.DataFrame(columns=['features','rmse_cv','rmse_y_test','#features','algorithm'])\n",
    "#num_features=15\n",
    "\n",
    "X=new_bikes[new_features]\n",
    "y=new_bikes.total_rentals\n",
    "\n",
    "X_train, X_test, y_train, y_test=train_test_split(X,y,random_state=999)\n",
    "\n",
    "for num_features in range(44,0,-15):\n",
    "    \n",
    "\n",
    "    for model in final_models:\n",
    "\n",
    "        steps=[('columns',ColumnTransformer(\n",
    "                transformers=[(\"cat\", OneHotEncoder(categories='auto',sparse=False,handle_unknown='ignore'), [0,3,7,8])],\n",
    "                remainder=\"passthrough\",\n",
    "            )),\n",
    "               ('feature_selection', SelectKBest(f_regression,k=num_features)),\n",
    "              ('standardization',MinMaxScaler()),\n",
    "              ('regressor',model[1])]\n",
    "\n",
    "        pipe=Pipeline(steps=steps)\n",
    "        pipe.fit(X_train,y_train)\n",
    "        mask=pipe.named_steps['feature_selection'].get_support()\n",
    "        column_names=pipe.named_steps['columns'].get_feature_names_out()\n",
    "        selection=[''.join(a.split('__')[1]) for a,b in zip(column_names,mask) if b]\n",
    "        print(num_features,len(mask),len(selection))\n",
    "        y_preds=pipe.predict(X_test)\n",
    "        rmse=np.sqrt(mean_squared_error(y_test,y_preds))\n",
    "        cv=KFold(n_splits=3)\n",
    "        scores=cross_val_score(pipe,X_train,y_train,cv=cv,scoring='neg_mean_squared_error')\n",
    "        results_df.loc[len(results_df.index)] = [selection,np.sqrt(np.abs(scores).mean()),rmse,len(selection) , model[0]]\n",
    "        \n",
    "with open('results_nn_rf.pkl','wb') as f:\n",
    "    pickle.dump(results_df,f)\n",
    "print('DONE')"
   ]
  },
  {
   "cell_type": "code",
   "execution_count": 6,
   "id": "9b108df3-317f-498e-a63e-c48eac56bca6",
   "metadata": {},
   "outputs": [
    {
     "data": {
      "text/html": [
       "<div>\n",
       "<style scoped>\n",
       "    .dataframe tbody tr th:only-of-type {\n",
       "        vertical-align: middle;\n",
       "    }\n",
       "\n",
       "    .dataframe tbody tr th {\n",
       "        vertical-align: top;\n",
       "    }\n",
       "\n",
       "    .dataframe thead th {\n",
       "        text-align: right;\n",
       "    }\n",
       "</style>\n",
       "<table border=\"1\" class=\"dataframe\">\n",
       "  <thead>\n",
       "    <tr style=\"text-align: right;\">\n",
       "      <th></th>\n",
       "      <th>features</th>\n",
       "      <th>rmse_cv</th>\n",
       "      <th>rmse_y_test</th>\n",
       "      <th>#features</th>\n",
       "      <th>algorithm</th>\n",
       "    </tr>\n",
       "  </thead>\n",
       "  <tbody>\n",
       "    <tr>\n",
       "      <th>0</th>\n",
       "      <td>[season_1, season_2, season_3, season_4, weath...</td>\n",
       "      <td>NaN</td>\n",
       "      <td>75.197869</td>\n",
       "      <td>44</td>\n",
       "      <td>NN</td>\n",
       "    </tr>\n",
       "    <tr>\n",
       "      <th>1</th>\n",
       "      <td>[season_1, season_2, season_3, season_4, weath...</td>\n",
       "      <td>NaN</td>\n",
       "      <td>75.728253</td>\n",
       "      <td>44</td>\n",
       "      <td>Random Forest</td>\n",
       "    </tr>\n",
       "    <tr>\n",
       "      <th>2</th>\n",
       "      <td>[season_1, season_2, season_3, weather_1, weat...</td>\n",
       "      <td>102.153560</td>\n",
       "      <td>101.586186</td>\n",
       "      <td>29</td>\n",
       "      <td>NN</td>\n",
       "    </tr>\n",
       "    <tr>\n",
       "      <th>3</th>\n",
       "      <td>[season_1, season_2, season_3, weather_1, weat...</td>\n",
       "      <td>105.161217</td>\n",
       "      <td>105.560208</td>\n",
       "      <td>29</td>\n",
       "      <td>Random Forest</td>\n",
       "    </tr>\n",
       "    <tr>\n",
       "      <th>4</th>\n",
       "      <td>[season_1, hour_0, hour_1, hour_2, hour_3, hou...</td>\n",
       "      <td>112.660580</td>\n",
       "      <td>110.364717</td>\n",
       "      <td>14</td>\n",
       "      <td>NN</td>\n",
       "    </tr>\n",
       "    <tr>\n",
       "      <th>5</th>\n",
       "      <td>[season_1, hour_0, hour_1, hour_2, hour_3, hou...</td>\n",
       "      <td>119.283367</td>\n",
       "      <td>119.412206</td>\n",
       "      <td>14</td>\n",
       "      <td>Random Forest</td>\n",
       "    </tr>\n",
       "  </tbody>\n",
       "</table>\n",
       "</div>"
      ],
      "text/plain": [
       "                                            features     rmse_cv  rmse_y_test  \\\n",
       "0  [season_1, season_2, season_3, season_4, weath...         NaN    75.197869   \n",
       "1  [season_1, season_2, season_3, season_4, weath...         NaN    75.728253   \n",
       "2  [season_1, season_2, season_3, weather_1, weat...  102.153560   101.586186   \n",
       "3  [season_1, season_2, season_3, weather_1, weat...  105.161217   105.560208   \n",
       "4  [season_1, hour_0, hour_1, hour_2, hour_3, hou...  112.660580   110.364717   \n",
       "5  [season_1, hour_0, hour_1, hour_2, hour_3, hou...  119.283367   119.412206   \n",
       "\n",
       "   #features      algorithm  \n",
       "0         44             NN  \n",
       "1         44  Random Forest  \n",
       "2         29             NN  \n",
       "3         29  Random Forest  \n",
       "4         14             NN  \n",
       "5         14  Random Forest  "
      ]
     },
     "execution_count": 6,
     "metadata": {},
     "output_type": "execute_result"
    }
   ],
   "source": [
    "results_df"
   ]
  },
  {
   "cell_type": "markdown",
   "id": "e49b5f46-5a08-44f7-8f43-3496bc2f9ccc",
   "metadata": {},
   "source": [
    "# Tuning the model and analyzing the most relevant features"
   ]
  },
  {
   "cell_type": "markdown",
   "id": "94468ef3-5a36-4525-9cf8-4e0c6cd83c87",
   "metadata": {},
   "source": [
    "## RF"
   ]
  },
  {
   "cell_type": "code",
   "execution_count": 10,
   "id": "129a00f6-d48a-457f-b3f7-27b921f3ac40",
   "metadata": {
    "tags": []
   },
   "outputs": [
    {
     "data": {
      "text/plain": [
       "{'bootstrap': True,\n",
       " 'ccp_alpha': 0.0,\n",
       " 'criterion': 'squared_error',\n",
       " 'max_depth': None,\n",
       " 'max_features': 1.0,\n",
       " 'max_leaf_nodes': None,\n",
       " 'max_samples': None,\n",
       " 'min_impurity_decrease': 0.0,\n",
       " 'min_samples_leaf': 1,\n",
       " 'min_samples_split': 2,\n",
       " 'min_weight_fraction_leaf': 0.0,\n",
       " 'n_estimators': 100,\n",
       " 'n_jobs': None,\n",
       " 'oob_score': False,\n",
       " 'random_state': None,\n",
       " 'verbose': 0,\n",
       " 'warm_start': False}"
      ]
     },
     "execution_count": 10,
     "metadata": {},
     "output_type": "execute_result"
    }
   ],
   "source": [
    "RandomForestRegressor().get_params()"
   ]
  },
  {
   "cell_type": "code",
   "execution_count": 14,
   "id": "57cdf98a-2ab4-4e3d-8152-7e7c323cd8ba",
   "metadata": {
    "tags": []
   },
   "outputs": [
    {
     "data": {
      "text/plain": [
       "{'regressor__n_estimators': [200,\n",
       "  400,\n",
       "  600,\n",
       "  800,\n",
       "  1000,\n",
       "  1200,\n",
       "  1400,\n",
       "  1600,\n",
       "  1800,\n",
       "  2000],\n",
       " 'regressor__max_features': ['log2', 'sqrt'],\n",
       " 'regressor__max_depth': [10, 20, 30, 40, 50, 60, 70, 80, 90, 100, 110, None],\n",
       " 'regressor__min_samples_split': [2, 5, 10],\n",
       " 'regressor__min_samples_leaf': [1, 2, 4],\n",
       " 'regressor__bootstrap': [True, False]}"
      ]
     },
     "execution_count": 14,
     "metadata": {},
     "output_type": "execute_result"
    }
   ],
   "source": [
    "\n",
    "# Number of trees in random forest\n",
    "n_estimators = [int(x) for x in np.linspace(start = 200, stop = 2000, num = 10)]\n",
    "# Number of features to consider at every split\n",
    "max_features = ['log2', 'sqrt']\n",
    "# Maximum number of levels in tree\n",
    "max_depth = [int(x) for x in np.linspace(10, 110, num = 11)]\n",
    "max_depth.append(None)\n",
    "# Minimum number of samples required to split a node\n",
    "min_samples_split = [2, 5, 10]\n",
    "# Minimum number of samples required at each leaf node\n",
    "min_samples_leaf = [1, 2, 4]\n",
    "# Method of selecting samples for training each tree\n",
    "bootstrap = [True, False]\n",
    "# Create the random grid\n",
    "random_grid_pipe = {'regressor__n_estimators': n_estimators,\n",
    "               'regressor__max_features': max_features,\n",
    "               'regressor__max_depth': max_depth,\n",
    "               'regressor__min_samples_split': min_samples_split,\n",
    "               'regressor__min_samples_leaf': min_samples_leaf,\n",
    "               'regressor__bootstrap': bootstrap}\n",
    "random_grid_pipe"
   ]
  },
  {
   "cell_type": "code",
   "execution_count": 44,
   "id": "7ff76d2d-51ae-4690-9910-1e62d3788f6e",
   "metadata": {
    "tags": []
   },
   "outputs": [
    {
     "name": "stderr",
     "output_type": "stream",
     "text": [
      "/Users/fcbnyc/anaconda3/lib/python3.11/site-packages/joblib/externals/loky/process_executor.py:700: UserWarning: A worker stopped while some jobs were given to the executor. This can be caused by a too short worker timeout or by a memory leak.\n",
      "  warnings.warn(\n"
     ]
    },
    {
     "name": "stdout",
     "output_type": "stream",
     "text": [
      "Done\n"
     ]
    }
   ],
   "source": [
    "new_features=[col for col in new_bikes.columns if col !='total_rentals']\n",
    "\n",
    "X=new_bikes[new_features]\n",
    "y=new_bikes.total_rentals\n",
    "\n",
    "X_train, X_test, y_train, y_test=train_test_split(X,y,random_state=999)\n",
    "\n",
    "steps=[('columns',ColumnTransformer(\n",
    "                transformers=[(\"cat\", OneHotEncoder(categories='auto',sparse_output=False,handle_unknown='ignore'), [0,3,7,8])],\n",
    "                remainder=\"passthrough\",\n",
    "            )),\n",
    "              ('standardization',MinMaxScaler()),\n",
    "              ('regressor',RandomForestRegressor())]\n",
    "\n",
    "final_pipe=Pipeline(steps=steps)\n",
    "\n",
    "\n",
    "rf_random = RandomizedSearchCV(estimator = final_pipe, param_distributions = random_grid_pipe, \n",
    "                               n_iter = 100, cv = 3, verbose=0, random_state=42, \n",
    "                               n_jobs = -1)\n",
    "\n",
    "best_model=rf_random.fit(X_train,y_train)\n",
    "preds=best_model.predict(X_test)\n",
    "np.sqrt(mean_squared_error(y_test,preds))\n",
    "print(\"Done\")"
   ]
  },
  {
   "cell_type": "code",
   "execution_count": 45,
   "id": "ea9c3258-4622-4bfe-8121-fcce5cd60dc1",
   "metadata": {},
   "outputs": [
    {
     "data": {
      "text/plain": [
       "{'n_estimators': 1600,\n",
       " 'min_samples_split': 5,\n",
       " 'min_samples_leaf': 1,\n",
       " 'max_features': 'sqrt',\n",
       " 'max_depth': 70,\n",
       " 'bootstrap': False}"
      ]
     },
     "execution_count": 45,
     "metadata": {},
     "output_type": "execute_result"
    }
   ],
   "source": [
    "best_params=best_model.best_params_\n",
    "final_params={k.split('__')[1]: v for k,v in best_params.items()}\n",
    "final_params"
   ]
  },
  {
   "cell_type": "code",
   "execution_count": 46,
   "id": "2ebaaf50-3181-482a-b903-626a35783f3f",
   "metadata": {
    "tags": []
   },
   "outputs": [
    {
     "data": {
      "text/plain": [
       "74.92928398780364"
      ]
     },
     "execution_count": 46,
     "metadata": {},
     "output_type": "execute_result"
    }
   ],
   "source": [
    "new_features=[col for col in new_bikes.columns if col !='total_rentals']\n",
    "\n",
    "X=new_bikes[new_features]\n",
    "y=new_bikes.total_rentals\n",
    "\n",
    "X_train, X_test, y_train, y_test=train_test_split(X,y,random_state=999)\n",
    "\n",
    "steps=[('columns',ColumnTransformer(\n",
    "                transformers=[(\"cat\", OneHotEncoder(categories='auto',sparse_output=False,handle_unknown='ignore'), [0,3,7,8])],\n",
    "                remainder=\"passthrough\",\n",
    "            )),\n",
    "              ('standardization',MinMaxScaler()),\n",
    "              ('regressor',RandomForestRegressor(**final_params))]\n",
    "\n",
    "final_pipe=Pipeline(steps=steps)\n",
    "final_pipe.fit(X_train,y_train)\n",
    "preds=final_pipe.predict(X_test)\n",
    "rmse=np.sqrt(mean_squared_error(y_test,preds))\n",
    "rmse"
   ]
  },
  {
   "cell_type": "code",
   "execution_count": 82,
   "id": "c6e5038a-0d33-47b3-bb65-1af7b369d734",
   "metadata": {
    "tags": []
   },
   "outputs": [],
   "source": [
    "features_importances=final_pipe[-1].feature_importances_\n",
    "features_names=final_pipe[0].get_feature_names_out()"
   ]
  },
  {
   "cell_type": "code",
   "execution_count": 91,
   "id": "125572da-21f6-4d53-974d-4f5ce56bdcc1",
   "metadata": {
    "tags": []
   },
   "outputs": [
    {
     "data": {
      "text/plain": [
       "<BarContainer object of 5 artists>"
      ]
     },
     "execution_count": 91,
     "metadata": {},
     "output_type": "execute_result"
    },
    {
     "data": {
      "image/png": "[encoded data removed]",
      "text/plain": [
       "<Figure size 640x480 with 1 Axes>"
      ]
     },
     "metadata": {},
     "output_type": "display_data"
    }
   ],
   "source": [
    "names_importances=[(a.split(\"__\")[1],b) for a,b in zip(features_names,features_importances)]\n",
    "best_features=sorted(names_importances,key=lambda x: x[1], reverse=True)[:5]\n",
    "best_names=[x[0] for x in best_features]\n",
    "best_importances=[x[1] for x in best_features]\n",
    "plt.bar(best_names,best_importances)"
   ]
  },
  {
   "cell_type": "markdown",
   "id": "65fb19e0-6bc7-41cf-aeac-b648a7661a6a",
   "metadata": {},
   "source": [
    "## NN"
   ]
  },
  {
   "cell_type": "code",
   "execution_count": null,
   "id": "4c48e40d-ce00-4845-a333-b64654d710e0",
   "metadata": {},
   "outputs": [],
   "source": [
    "param_grid = {\n",
    "    'hidden_layer_sizes': [(150,100,50), (120,80,40), (100,50,30)],\n",
    "    'max_iter': [50, 100],\n",
    "    'activation': ['tanh', 'relu'],\n",
    "    'solver': ['sgd', 'adam'],\n",
    "    'alpha': [0.0001, 0.05],\n",
    "    'learning_rate': ['constant','adaptive'],\n",
    "}\n",
    "grid = GridSearchCV(mlp_reg, param_grid, n_jobs= -1, cv=5)\n",
    "grid.fit(trainX_scaled, trainY)\n",
    "\n",
    "print(grid.best_params_) \n",
    "\n",
    "\n",
    "grid_predictions = grid.predict(testX_scaled) "
   ]
  }
 ],
 "metadata": {
  "kernelspec": {
   "display_name": "Python 3 (ipykernel)",
   "language": "python",
   "name": "python3"
  },
  "language_info": {
   "codemirror_mode": {
    "name": "ipython",
    "version": 3
   },
   "file_extension": ".py",
   "mimetype": "text/x-python",
   "name": "python",
   "nbconvert_exporter": "python",
   "pygments_lexer": "ipython3",
   "version": "3.11.5"
  }
 },
 "nbformat": 4,
 "nbformat_minor": 5
}
