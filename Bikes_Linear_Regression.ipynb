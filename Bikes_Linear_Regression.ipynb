{
 "cells": [
  {
   "cell_type": "code",
   "execution_count": 2,
   "id": "cc839a6b",
   "metadata": {
    "tags": []
   },
   "outputs": [
    {
     "name": "stdout",
     "output_type": "stream",
     "text": [
      "Hello\n",
      "DOOOOOOOOONE\n"
     ]
    }
   ],
   "source": [
    "#imports\n",
    "\n",
    "import warnings   \n",
    "# Settings the warnings to be ignored \n",
    "warnings.filterwarnings('ignore') \n",
    "import pandas as pd\n",
    "import numpy as np\n",
    "from itertools import combinations\n",
    "import pickle\n",
    "import time\n",
    "import webbrowser\n",
    "\n",
    "from sklearn.metrics import mean_squared_error, r2_score\n",
    "from sklearn.linear_model import LinearRegression, Ridge\n",
    "from sklearn.svm import SVR, LinearSVR\n",
    "from sklearn.model_selection import cross_val_score, KFold\n",
    "from sklearn.ensemble import RandomForestRegressor,GradientBoostingRegressor\n",
    "from sklearn.model_selection import train_test_split, RandomizedSearchCV, GridSearchCV\n",
    "from sklearn.preprocessing import StandardScaler,OneHotEncoder,OrdinalEncoder, MinMaxScaler\n",
    "from sklearn.neural_network import MLPRegressor\n",
    "from sklearn.ensemble import GradientBoostingRegressor\n",
    "from sklearn.neighbors import KNeighborsRegressor\n",
    "from sklearn.pipeline import Pipeline, make_pipeline\n",
    "from sklearn.compose import ColumnTransformer\n",
    "from sklearn.feature_selection import SelectKBest, SelectFromModel, f_regression\n",
    "\n",
    "#import tensorflow as tf\n",
    "\n",
    "\n",
    "import seaborn as sns\n",
    "import matplotlib.pyplot as plt\n",
    "%matplotlib inline\n",
    "\n",
    "#load the dataframe----bikes\n",
    "url = './data/bikeshare.csv'\n",
    "bikes = pd.read_csv(url, index_col='datetime', parse_dates=True)\n",
    "bikes.columns=[col.lower().replace(\" \",\"_\") if col !='count' else 'total_rentals'for col in bikes.columns]\n",
    "bikes.columns\n",
    "bikes=bikes.drop(['atemp','registered', 'casual'],axis=1)\n",
    "#feature engineering\n",
    "\n",
    "bikes['hour']=bikes.index.hour\n",
    "bikes['weekday']=bikes.index.day_name()\n",
    "features=[col for col in bikes.columns if col !='total_rentals']\n",
    "\n",
    "numerical_features=['temp','windspeed','humidity']\n",
    "\n",
    "new_bikes=bikes.copy()\n",
    "columns_to_dummify=['hour','weekday','season']\n",
    "for col in columns_to_dummify:\n",
    "    dummies=pd.get_dummies(bikes[col],prefix=col,drop_first=True,dtype=float)\n",
    "    bikes=pd.concat([bikes,dummies],axis=1)\n",
    "#bikes.drop(['weekday','hour'],axis=1,inplace=True)\n",
    "\n",
    "#classifying features\n",
    "cat_features=[col for col in features if col not in numerical_features]\n",
    "alg_dict={'Linear Regression':LinearRegression(),\n",
    "         'Random Forest': RandomForestRegressor(),\n",
    "         'Ridge': Ridge(),\n",
    "         'SVR':SVR()}\n",
    "models=[('NN',MLPRegressor(max_iter=300,random_state=999)),\n",
    "       (\"boosting\",GradientBoostingRegressor(random_state=999)),\n",
    "        (\"knn\", KNeighborsRegressor()),\n",
    "        ('SVR',LinearSVR())\n",
    "       ]\n",
    "final_models=[('NN',MLPRegressor(max_iter=600,random_state=999)),\n",
    "               ('Random Forest',RandomForestRegressor())]\n",
    "print('DOOOOOOOOONE')"
   ]
  },
  {
   "cell_type": "code",
   "execution_count": 3,
   "id": "84ce704f",
   "metadata": {
    "tags": []
   },
   "outputs": [],
   "source": [
    "def train_test_rmse(df, feature_cols):\n",
    "    X = df[feature_cols]\n",
    "    y = df.total_rentals\n",
    "    \n",
    "    X_train, X_test, y_train, y_test = train_test_split(X, y,random_state=123)\n",
    "    \n",
    "    linreg = LinearRegression()\n",
    "    linreg.fit(X_train, y_train)\n",
    "    \n",
    "    y_pred = linreg.predict(X_test)\n",
    "    return np.sqrt(mean_squared_error(y_test, y_pred)),r2_score(y_test,y_pred)\n",
    "\n",
    "def train_test_rmse_and_alg(df, feature_cols,algorithm):\n",
    "    X = df[feature_cols]\n",
    "    y = df.total_rentals\n",
    "    \n",
    "    X_train, X_test, y_train, y_test = train_test_split(X, y,random_state=123)\n",
    "    \n",
    "    alg = algorithm\n",
    "    alg.fit(X_train, y_train)\n",
    "    \n",
    "    y_pred = alg.predict(X_test)\n",
    "    return np.sqrt(mean_squared_error(y_test, y_pred)),r2_score(y_test,y_pred)\n",
    "def train_test_rmse_and_ss(df, feature_cols,algorithm):\n",
    "    X = df[feature_cols]\n",
    "    y = df.total_rentals\n",
    "    \n",
    "    X_train, X_test, y_train, y_test = train_test_split(X, y,random_state=123)\n",
    "    \n",
    "    ss=StandardScaler()\n",
    "    \n",
    "    X_s_train= ss.fit_transform(X_train)\n",
    "    \n",
    "    X_s_test=ss.transform(X_test)\n",
    "    alg=algorithm\n",
    "    \n",
    "    alg.fit(X_s_train, y_train)\n",
    "    \n",
    "    y_pred = alg.predict(X_s_test)\n",
    "\n",
    "    return np.sqrt(mean_squared_error(y_test, y_pred)),r2_score(y_test,y_pred)"
   ]
  },
  {
   "cell_type": "code",
   "execution_count": null,
   "id": "17ef9714",
   "metadata": {},
   "outputs": [],
   "source": [
    "st = time.time()\n",
    "results_df2=pd.DataFrame(columns=['features','rmse','r2','#features','algorithm'])\n",
    "count=0\n",
    "for i in range(1,len(features)+1):\n",
    "    for combo in list(combinations(features, i)):\n",
    "        combo_list=list(combo)\n",
    "        #print(combo_list,type(combo_list))\n",
    "        length=len(combo_list)        \n",
    "        count+=1\n",
    "        if count%50==0:\n",
    "            print('COUNT',count)\n",
    "        final_list=[]\n",
    "            \n",
    "        for feature in combo_list:\n",
    "            #print(feature)\n",
    "            if feature in columns_to_dummify:\n",
    "                \n",
    "                final_list.extend([col for col in bikes.columns if feature+'_' in col])\n",
    "            else:\n",
    "                final_list.append(feature)\n",
    "                \n",
    "        #print('FINAL LIST',final_list)\n",
    "                        \n",
    "        for algorithm in alg_dict.items():\n",
    "            if algorithm[0] in ['Ridge','SVR'] and len(final_list)!=1:\n",
    "                rmse,r2=train_test_rmse_and_ss(bikes, final_list,algorithm[1])\n",
    "                results_df2.loc[len(results_df2.index)]= [final_list,rmse,r2,length,algorithm[0]]\n",
    "\n",
    "            else:\n",
    "                rmse,r2=train_test_rmse_and_alg(bikes, final_list,algorithm[1])\n",
    "                results_df2.loc[len(results_df2.index)]= [final_list,rmse,r2,length,algorithm[0]]\n",
    "\n",
    "et = time.time()\n",
    "  \n",
    "\n",
    "with open('resuts_df2.pkl','wb') as file:\n",
    "    pickle.dump(results_df2,file)\n",
    "f'It took that many minutes {round((et-st)/60,2)} to get it done'\n",
    "url = \"https://www.youtube.com/watch?v=Udt-9J8nzGE\"\n",
    "webbrowser.open(url,new=1)"
   ]
  },
  {
   "cell_type": "markdown",
   "id": "4da71c92-0a99-4082-b4ea-16d8375c29af",
   "metadata": {},
   "source": [
    "# Analyzing Results"
   ]
  },
  {
   "cell_type": "code",
   "execution_count": 4,
   "id": "c7ad0693-5af7-4ccf-af7b-590789ba3875",
   "metadata": {
    "tags": []
   },
   "outputs": [],
   "source": [
    "with open('resuts_df2.pkl','rb') as file:\n",
    "    results= pickle.load(file)"
   ]
  },
  {
   "cell_type": "code",
   "execution_count": 5,
   "id": "babaee44-68fb-4794-a71f-564fdda78878",
   "metadata": {},
   "outputs": [
    {
     "data": {
      "text/html": [
       "<div>\n",
       "<style scoped>\n",
       "    .dataframe tbody tr th:only-of-type {\n",
       "        vertical-align: middle;\n",
       "    }\n",
       "\n",
       "    .dataframe tbody tr th {\n",
       "        vertical-align: top;\n",
       "    }\n",
       "\n",
       "    .dataframe thead th {\n",
       "        text-align: right;\n",
       "    }\n",
       "</style>\n",
       "<table border=\"1\" class=\"dataframe\">\n",
       "  <thead>\n",
       "    <tr style=\"text-align: right;\">\n",
       "      <th></th>\n",
       "      <th>features</th>\n",
       "      <th>rmse</th>\n",
       "      <th>r2</th>\n",
       "      <th>#features</th>\n",
       "      <th>algorithm</th>\n",
       "    </tr>\n",
       "  </thead>\n",
       "  <tbody>\n",
       "    <tr>\n",
       "      <th>0</th>\n",
       "      <td>[season_2, season_3, season_4]</td>\n",
       "      <td>174.572390</td>\n",
       "      <td>0.054983</td>\n",
       "      <td>1</td>\n",
       "      <td>Linear Regression</td>\n",
       "    </tr>\n",
       "    <tr>\n",
       "      <th>1</th>\n",
       "      <td>[season_2, season_3, season_4]</td>\n",
       "      <td>174.568495</td>\n",
       "      <td>0.055025</td>\n",
       "      <td>1</td>\n",
       "      <td>Random Forest</td>\n",
       "    </tr>\n",
       "    <tr>\n",
       "      <th>2</th>\n",
       "      <td>[season_2, season_3, season_4]</td>\n",
       "      <td>174.571952</td>\n",
       "      <td>0.054988</td>\n",
       "      <td>1</td>\n",
       "      <td>Ridge</td>\n",
       "    </tr>\n",
       "    <tr>\n",
       "      <th>3</th>\n",
       "      <td>[season_2, season_3, season_4]</td>\n",
       "      <td>179.702546</td>\n",
       "      <td>-0.001376</td>\n",
       "      <td>1</td>\n",
       "      <td>SVR</td>\n",
       "    </tr>\n",
       "    <tr>\n",
       "      <th>4</th>\n",
       "      <td>[holiday]</td>\n",
       "      <td>179.576825</td>\n",
       "      <td>0.000025</td>\n",
       "      <td>1</td>\n",
       "      <td>Linear Regression</td>\n",
       "    </tr>\n",
       "    <tr>\n",
       "      <th>...</th>\n",
       "      <td>...</td>\n",
       "      <td>...</td>\n",
       "      <td>...</td>\n",
       "      <td>...</td>\n",
       "      <td>...</td>\n",
       "    </tr>\n",
       "    <tr>\n",
       "      <th>2039</th>\n",
       "      <td>[holiday, workingday, weather, temp, humidity,...</td>\n",
       "      <td>141.259154</td>\n",
       "      <td>0.381241</td>\n",
       "      <td>8</td>\n",
       "      <td>SVR</td>\n",
       "    </tr>\n",
       "    <tr>\n",
       "      <th>2040</th>\n",
       "      <td>[season_2, season_3, season_4, holiday, workin...</td>\n",
       "      <td>111.365339</td>\n",
       "      <td>0.615418</td>\n",
       "      <td>9</td>\n",
       "      <td>Linear Regression</td>\n",
       "    </tr>\n",
       "    <tr>\n",
       "      <th>2041</th>\n",
       "      <td>[season_2, season_3, season_4, holiday, workin...</td>\n",
       "      <td>77.843049</td>\n",
       "      <td>0.812099</td>\n",
       "      <td>9</td>\n",
       "      <td>Random Forest</td>\n",
       "    </tr>\n",
       "    <tr>\n",
       "      <th>2042</th>\n",
       "      <td>[season_2, season_3, season_4, holiday, workin...</td>\n",
       "      <td>111.366597</td>\n",
       "      <td>0.615410</td>\n",
       "      <td>9</td>\n",
       "      <td>Ridge</td>\n",
       "    </tr>\n",
       "    <tr>\n",
       "      <th>2043</th>\n",
       "      <td>[season_2, season_3, season_4, holiday, workin...</td>\n",
       "      <td>144.120810</td>\n",
       "      <td>0.355917</td>\n",
       "      <td>9</td>\n",
       "      <td>SVR</td>\n",
       "    </tr>\n",
       "  </tbody>\n",
       "</table>\n",
       "<p>2044 rows × 5 columns</p>\n",
       "</div>"
      ],
      "text/plain": [
       "                                               features        rmse        r2  \\\n",
       "0                        [season_2, season_3, season_4]  174.572390  0.054983   \n",
       "1                        [season_2, season_3, season_4]  174.568495  0.055025   \n",
       "2                        [season_2, season_3, season_4]  174.571952  0.054988   \n",
       "3                        [season_2, season_3, season_4]  179.702546 -0.001376   \n",
       "4                                             [holiday]  179.576825  0.000025   \n",
       "...                                                 ...         ...       ...   \n",
       "2039  [holiday, workingday, weather, temp, humidity,...  141.259154  0.381241   \n",
       "2040  [season_2, season_3, season_4, holiday, workin...  111.365339  0.615418   \n",
       "2041  [season_2, season_3, season_4, holiday, workin...   77.843049  0.812099   \n",
       "2042  [season_2, season_3, season_4, holiday, workin...  111.366597  0.615410   \n",
       "2043  [season_2, season_3, season_4, holiday, workin...  144.120810  0.355917   \n",
       "\n",
       "      #features          algorithm  \n",
       "0             1  Linear Regression  \n",
       "1             1      Random Forest  \n",
       "2             1              Ridge  \n",
       "3             1                SVR  \n",
       "4             1  Linear Regression  \n",
       "...         ...                ...  \n",
       "2039          8                SVR  \n",
       "2040          9  Linear Regression  \n",
       "2041          9      Random Forest  \n",
       "2042          9              Ridge  \n",
       "2043          9                SVR  \n",
       "\n",
       "[2044 rows x 5 columns]"
      ]
     },
     "execution_count": 5,
     "metadata": {},
     "output_type": "execute_result"
    }
   ],
   "source": [
    "results"
   ]
  },
  {
   "cell_type": "code",
   "execution_count": 6,
   "id": "349902ea-1686-4084-b688-b98697426736",
   "metadata": {
    "tags": []
   },
   "outputs": [
    {
     "data": {
      "text/plain": [
       "algorithm\n",
       "Random Forest         77.757430\n",
       "Linear Regression    111.365339\n",
       "Ridge                111.366592\n",
       "SVR                  131.077315\n",
       "Name: rmse, dtype: float64"
      ]
     },
     "execution_count": 6,
     "metadata": {},
     "output_type": "execute_result"
    }
   ],
   "source": [
    "#Best algorithm\n",
    "results.groupby('algorithm').rmse.min().sort_values()\n",
    "##E+RandomForest is a clear winner"
   ]
  },
  {
   "cell_type": "code",
   "execution_count": 7,
   "id": "8716dd4c-2a96-4a42-b4ec-b0e9483bb171",
   "metadata": {
    "tags": []
   },
   "outputs": [
    {
     "data": {
      "image/png": "[encoded data removed]",
      "text/plain": [
       "<Figure size 600x600 with 2 Axes>"
      ]
     },
     "metadata": {},
     "output_type": "display_data"
    }
   ],
   "source": [
    "groupy=results.groupby('#features')[['rmse','r2']].mean()\n",
    "COLOR_R2 = \"#69b3a2\"\n",
    "COLOR_RMSE = \"#3399e6\"\n",
    "\n",
    "fig, ax1 = plt.subplots(figsize=(6, 6))\n",
    "ax2 = ax1.twinx()\n",
    "\n",
    "ax1.plot(groupy.index, groupy.r2, color=COLOR_R2, lw=3)\n",
    "ax2.plot(groupy.index, groupy.rmse, color=COLOR_RMSE, lw=4)\n",
    "\n",
    "ax1.set_xlabel(\"Number of features\")\n",
    "ax1.set_ylabel(\"R2\", color=COLOR_R2, fontsize=14)\n",
    "ax1.tick_params(axis=\"y\", labelcolor=COLOR_R2)\n",
    "\n",
    "ax2.set_ylabel(\"RMSE\", color=COLOR_RMSE, fontsize=14)\n",
    "ax2.tick_params(axis=\"y\", labelcolor=COLOR_RMSE)\n",
    "\n",
    "fig.suptitle(\"RMSE down, R2 up\", fontsize=20)\n",
    "fig.autofmt_xdate()\n",
    "#Obvoiously, to select all features seems the best option"
   ]
  },
  {
   "cell_type": "code",
   "execution_count": 8,
   "id": "aa530ada-6273-40d0-8b81-01be1ed22e8e",
   "metadata": {
    "tags": []
   },
   "outputs": [
    {
     "data": {
      "text/html": [
       "<div>\n",
       "<style scoped>\n",
       "    .dataframe tbody tr th:only-of-type {\n",
       "        vertical-align: middle;\n",
       "    }\n",
       "\n",
       "    .dataframe tbody tr th {\n",
       "        vertical-align: top;\n",
       "    }\n",
       "\n",
       "    .dataframe thead th {\n",
       "        text-align: right;\n",
       "    }\n",
       "</style>\n",
       "<table border=\"1\" class=\"dataframe\">\n",
       "  <thead>\n",
       "    <tr style=\"text-align: right;\">\n",
       "      <th></th>\n",
       "      <th>features</th>\n",
       "      <th>rmse</th>\n",
       "      <th>r2</th>\n",
       "      <th>#features</th>\n",
       "    </tr>\n",
       "    <tr>\n",
       "      <th>algorithm</th>\n",
       "      <th></th>\n",
       "      <th></th>\n",
       "      <th></th>\n",
       "      <th></th>\n",
       "    </tr>\n",
       "  </thead>\n",
       "  <tbody>\n",
       "    <tr>\n",
       "      <th>Linear Regression</th>\n",
       "      <td>[season_2, season_3, season_4, holiday, workin...</td>\n",
       "      <td>111.365339</td>\n",
       "      <td>0.615418</td>\n",
       "      <td>9</td>\n",
       "    </tr>\n",
       "    <tr>\n",
       "      <th>Random Forest</th>\n",
       "      <td>[season_2, season_3, season_4, workingday, wea...</td>\n",
       "      <td>77.757430</td>\n",
       "      <td>0.812512</td>\n",
       "      <td>8</td>\n",
       "    </tr>\n",
       "    <tr>\n",
       "      <th>Ridge</th>\n",
       "      <td>[season_2, season_3, season_4, workingday, wea...</td>\n",
       "      <td>111.366592</td>\n",
       "      <td>0.615410</td>\n",
       "      <td>8</td>\n",
       "    </tr>\n",
       "    <tr>\n",
       "      <th>SVR</th>\n",
       "      <td>[workingday, temp, humidity, hour_1, hour_2, h...</td>\n",
       "      <td>131.077315</td>\n",
       "      <td>0.467225</td>\n",
       "      <td>4</td>\n",
       "    </tr>\n",
       "  </tbody>\n",
       "</table>\n",
       "</div>"
      ],
      "text/plain": [
       "                                                            features  \\\n",
       "algorithm                                                              \n",
       "Linear Regression  [season_2, season_3, season_4, holiday, workin...   \n",
       "Random Forest      [season_2, season_3, season_4, workingday, wea...   \n",
       "Ridge              [season_2, season_3, season_4, workingday, wea...   \n",
       "SVR                [workingday, temp, humidity, hour_1, hour_2, h...   \n",
       "\n",
       "                         rmse        r2  #features  \n",
       "algorithm                                           \n",
       "Linear Regression  111.365339  0.615418          9  \n",
       "Random Forest       77.757430  0.812512          8  \n",
       "Ridge              111.366592  0.615410          8  \n",
       "SVR                131.077315  0.467225          4  "
      ]
     },
     "execution_count": 8,
     "metadata": {},
     "output_type": "execute_result"
    }
   ],
   "source": [
    "results.sort_values('rmse').groupby('algorithm').first()\n",
    "#Except for SVR all get the best results with alomst all features"
   ]
  },
  {
   "cell_type": "code",
   "execution_count": 9,
   "id": "fdca513d-d936-4dcb-9391-5f6f766901bc",
   "metadata": {
    "tags": []
   },
   "outputs": [
    {
     "data": {
      "text/html": [
       "<div>\n",
       "<style scoped>\n",
       "    .dataframe tbody tr th:only-of-type {\n",
       "        vertical-align: middle;\n",
       "    }\n",
       "\n",
       "    .dataframe tbody tr th {\n",
       "        vertical-align: top;\n",
       "    }\n",
       "\n",
       "    .dataframe thead th {\n",
       "        text-align: right;\n",
       "    }\n",
       "</style>\n",
       "<table border=\"1\" class=\"dataframe\">\n",
       "  <thead>\n",
       "    <tr style=\"text-align: right;\">\n",
       "      <th></th>\n",
       "      <th>rmse</th>\n",
       "      <th>r2</th>\n",
       "    </tr>\n",
       "    <tr>\n",
       "      <th>#features</th>\n",
       "      <th></th>\n",
       "      <th></th>\n",
       "    </tr>\n",
       "  </thead>\n",
       "  <tbody>\n",
       "    <tr>\n",
       "      <th>1</th>\n",
       "      <td>170.163766</td>\n",
       "      <td>0.094589</td>\n",
       "    </tr>\n",
       "    <tr>\n",
       "      <th>2</th>\n",
       "      <td>160.545461</td>\n",
       "      <td>0.185425</td>\n",
       "    </tr>\n",
       "    <tr>\n",
       "      <th>3</th>\n",
       "      <td>152.031901</td>\n",
       "      <td>0.261307</td>\n",
       "    </tr>\n",
       "    <tr>\n",
       "      <th>4</th>\n",
       "      <td>142.530123</td>\n",
       "      <td>0.341068</td>\n",
       "    </tr>\n",
       "    <tr>\n",
       "      <th>5</th>\n",
       "      <td>130.336917</td>\n",
       "      <td>0.438880</td>\n",
       "    </tr>\n",
       "    <tr>\n",
       "      <th>6</th>\n",
       "      <td>115.878161</td>\n",
       "      <td>0.549882</td>\n",
       "    </tr>\n",
       "    <tr>\n",
       "      <th>7</th>\n",
       "      <td>101.081385</td>\n",
       "      <td>0.657606</td>\n",
       "    </tr>\n",
       "    <tr>\n",
       "      <th>8</th>\n",
       "      <td>88.196721</td>\n",
       "      <td>0.745721</td>\n",
       "    </tr>\n",
       "    <tr>\n",
       "      <th>9</th>\n",
       "      <td>77.843049</td>\n",
       "      <td>0.812099</td>\n",
       "    </tr>\n",
       "  </tbody>\n",
       "</table>\n",
       "</div>"
      ],
      "text/plain": [
       "                 rmse        r2\n",
       "#features                      \n",
       "1          170.163766  0.094589\n",
       "2          160.545461  0.185425\n",
       "3          152.031901  0.261307\n",
       "4          142.530123  0.341068\n",
       "5          130.336917  0.438880\n",
       "6          115.878161  0.549882\n",
       "7          101.081385  0.657606\n",
       "8           88.196721  0.745721\n",
       "9           77.843049  0.812099"
      ]
     },
     "execution_count": 9,
     "metadata": {},
     "output_type": "execute_result"
    }
   ],
   "source": [
    "#Finally, just confirming our results, will anayze the score in RandomForest based on features\n",
    "results[results['algorithm']=='Random Forest'].groupby('#features')[['rmse','r2']].mean()"
   ]
  },
  {
   "cell_type": "code",
   "execution_count": null,
   "id": "6df5f455-9b55-416b-8c50-f29487337550",
   "metadata": {
    "tags": []
   },
   "outputs": [],
   "source": [
    "groupy_rf=results[results['algorithm']=='Random Forest'].groupby('#features')[['rmse','r2']].mean()\n",
    "\n",
    "COLOR_R2 = \"#69b3a2\"\n",
    "COLOR_RMSE = \"#3399e6\"\n",
    "\n",
    "fig, ax1 = plt.subplots(figsize=(6, 6))\n",
    "ax2 = ax1.twinx()\n",
    "\n",
    "ax1.plot(groupy_rf.index, groupy.r2, color=COLOR_R2, lw=3)\n",
    "ax2.plot(groupy_rf.index, groupy.rmse, color=COLOR_RMSE, lw=4)\n",
    "\n",
    "ax1.set_xlabel(\"Number of features\")\n",
    "ax1.set_ylabel(\"R2\", color=COLOR_R2, fontsize=14)\n",
    "ax1.tick_params(axis=\"y\", labelcolor=COLOR_R2)\n",
    "\n",
    "ax2.set_ylabel(\"RMSE\", color=COLOR_RMSE, fontsize=14)\n",
    "ax2.tick_params(axis=\"y\", labelcolor=COLOR_RMSE)\n",
    "\n",
    "fig.suptitle(\"RMSE down, R2 up with Random Forest\", fontsize=20)\n",
    "fig.autofmt_xdate()\n",
    "#Obvoiously, to select all features seems the best option"
   ]
  },
  {
   "cell_type": "code",
   "execution_count": null,
   "id": "edbbdee7-931a-4b4d-a6f1-5c15f86691c7",
   "metadata": {
    "tags": []
   },
   "outputs": [],
   "source": [
    "#Curiosity what feature/s are left out in the best solution for LinearRegression and Ridge\n",
    "for algorithm in alg_dict.keys():\n",
    "    rmse_min=results[results['algorithm']==algorithm]['rmse'].min()\n",
    "    list_fea=results[(results['algorithm']==algorithm)&(results['rmse']==rmse_min)]['features'].values[0]\n",
    "    print(algorithm,rmse_min,[col for col in list_fea if '_' not in col and col not in features])"
   ]
  },
  {
   "cell_type": "markdown",
   "id": "d7f3cba7-d653-47bd-9767-3a8aced5617e",
   "metadata": {},
   "source": [
    "# Using Pipeline, crossvalidation and SelectKbest to try new models"
   ]
  },
  {
   "cell_type": "code",
   "execution_count": null,
   "id": "7499214b-f7b9-4184-80aa-6e1f2ba69b0b",
   "metadata": {
    "tags": []
   },
   "outputs": [],
   "source": [
    "st = time.time()\n",
    "results_df=pd.DataFrame(columns=['features','rmse_ytest','rmse_cv','#features','algorithm'])\n",
    "new_features=[col for col in new_bikes.columns if col !='total_rentals']\n",
    "numerical_features=['temp','windspeed','humidity']\n",
    "categorical_features=[col for col in new_features if col not in numerical_features]\n",
    "\n",
    "count=0\n",
    "\n",
    "                        \n",
    "for model in models:\n",
    "    X=new_bikes[new_features]\n",
    "    y=new_bikes.total_rentals\n",
    "\n",
    "    X_train, X_test, y_train, y_test=train_test_split(X,y,random_state=999)\n",
    "\n",
    "    steps=[('columns',ColumnTransformer(\n",
    "            transformers=[(\"cat\", OneHotEncoder(categories='auto',sparse_output=False,handle_unknown='ignore'), categorical_features)],\n",
    "            remainder=\"passthrough\",\n",
    "            )),\n",
    "          ('standardization',StandardScaler()),\n",
    "          ('regressor',model[1])]\n",
    "\n",
    "    pipeline=Pipeline(steps=steps)\n",
    "    pipeline.fit(X_train,y_train)\n",
    "    y_preds=pipeline.predict(X_test)\n",
    "    rmse=np.sqrt(mean_squared_error(y_test,y_preds))\n",
    "    cv=KFold()\n",
    "    scores=cross_val_score(pipeline,X_train,y_train,cv=cv,scoring='neg_mean_squared_error')\n",
    "    results_df.loc[len(results_df.index)]= [new_features,rmse,np.sqrt(np.abs(scores)).mean(),\\\n",
    "                                            len(new_features),model[0]]\n",
    "\n",
    "et = time.time()\n",
    "\n",
    "\n",
    "with open('resuts_df_plus.pkl','wb') as file:\n",
    "    pickle.dump(results_df,file)\n",
    "print(f'It took that many minutes {round((et-st)/60,2)} to get it done')\n",
    "url = \"https://www.youtube.com/watch?v=Udt-9J8nzGE\"\n",
    "webbrowser.open(url,new=1)"
   ]
  },
  {
   "cell_type": "code",
   "execution_count": null,
   "id": "6a52911c-cb69-4f64-a7cf-d51a29ef1faa",
   "metadata": {
    "tags": []
   },
   "outputs": [],
   "source": [
    "\n",
    "with open('resuts_df_plus.pkl','rb') as file:\n",
    "    results=pickle.load(file)\n",
    "results"
   ]
  },
  {
   "cell_type": "markdown",
   "id": "a0933be8-8ec8-4b28-815f-32e5a13dd81c",
   "metadata": {},
   "source": [
    "# from now on, I will only work with rf and NN.\n",
    "# I will try using selectKbest just to confirm the right number of features"
   ]
  },
  {
   "cell_type": "code",
   "execution_count": null,
   "id": "623b4133-1803-4a24-9f66-c781c4826433",
   "metadata": {
    "tags": []
   },
   "outputs": [],
   "source": [
    "new_features=[col for col in new_bikes.columns if col !='total_rentals']\n",
    "results_df=pd.DataFrame(columns=['features','rmse_cv','rmse_y_test','#features','algorithm'])\n",
    "#num_features=15\n",
    "\n",
    "X=new_bikes[new_features]\n",
    "y=new_bikes.total_rentals\n",
    "\n",
    "X_train, X_test, y_train, y_test=train_test_split(X,y,random_state=999)\n",
    "\n",
    "for num_features in range(44,0,-10):\n",
    "    \n",
    "\n",
    "    for model in final_models:\n",
    "\n",
    "        steps=[('columns',ColumnTransformer(\n",
    "                transformers=[(\"cat\", OneHotEncoder(categories='auto',sparse_output=False,handle_unknown='ignore'), [0,3,7,8])],\n",
    "                remainder=\"passthrough\",\n",
    "            )),\n",
    "               ('feature_selection', SelectKBest(f_regression,k=num_features)),\n",
    "              ('standardization',MinMaxScaler()),\n",
    "              ('regressor',model[1])]\n",
    "\n",
    "        pipe=Pipeline(steps=steps)\n",
    "        pipe.fit(X_train,y_train)\n",
    "        mask=pipe.named_steps['feature_selection'].get_support()\n",
    "        column_names=pipe.named_steps['columns'].get_feature_names_out()\n",
    "        selection=[''.join(a.split('__')[1]) for a,b in zip(column_names,mask) if b]\n",
    "        print(num_features,len(mask),len(selection))\n",
    "        y_preds=pipe.predict(X_test)\n",
    "        rmse=np.sqrt(mean_squared_error(y_test,y_preds))\n",
    "        cv=KFold(n_splits=3)\n",
    "        scores=cross_val_score(pipe,X_train,y_train,cv=cv,scoring='neg_mean_squared_error')\n",
    "        results_df.loc[len(results_df.index)] = [selection,np.sqrt(np.abs(scores).mean()),rmse,len(selection) , model[0]]\n",
    "        \n",
    "with open('results_nn_rf.pkl','wb') as f:\n",
    "    pickle.dump(results_df,f)\n",
    "print('DONE')"
   ]
  },
  {
   "cell_type": "code",
   "execution_count": null,
   "id": "9b108df3-317f-498e-a63e-c48eac56bca6",
   "metadata": {
    "tags": []
   },
   "outputs": [],
   "source": [
    "with open('results_nn_rf.pkl','rb') as f:\n",
    "    results=pickle.load(f)\n",
    "results.groupby('#features')['rmse_y_test'].min()"
   ]
  },
  {
   "cell_type": "code",
   "execution_count": null,
   "id": "800693b4-b962-4f00-b719-afff89ffd65f",
   "metadata": {
    "tags": []
   },
   "outputs": [],
   "source": [
    "results.sort_values('rmse_y_test')"
   ]
  },
  {
   "cell_type": "markdown",
   "id": "e49b5f46-5a08-44f7-8f43-3496bc2f9ccc",
   "metadata": {},
   "source": [
    "# Tuning the model and analyzing the most relevant features"
   ]
  },
  {
   "cell_type": "markdown",
   "id": "94468ef3-5a36-4525-9cf8-4e0c6cd83c87",
   "metadata": {},
   "source": [
    "## RF"
   ]
  },
  {
   "cell_type": "code",
   "execution_count": null,
   "id": "57cdf98a-2ab4-4e3d-8152-7e7c323cd8ba",
   "metadata": {
    "tags": []
   },
   "outputs": [],
   "source": [
    "\n",
    "# Number of trees in random forest\n",
    "n_estimators = [int(x) for x in np.linspace(start = 200, stop = 2000, num = 10)]\n",
    "# Number of features to consider at every split\n",
    "max_features = ['log2', 'sqrt']\n",
    "# Maximum number of levels in tree\n",
    "max_depth = [int(x) for x in np.linspace(10, 110, num = 11)]\n",
    "max_depth.append(None)\n",
    "# Minimum number of samples required to split a node\n",
    "min_samples_split = [2, 5, 10]\n",
    "# Minimum number of samples required at each leaf node\n",
    "min_samples_leaf = [1, 2, 4]\n",
    "# Method of selecting samples for training each tree\n",
    "bootstrap = [True, False]\n",
    "# Create the random grid\n",
    "random_grid_pipe = {'regressor__n_estimators': n_estimators,\n",
    "               'regressor__max_features': max_features,\n",
    "               'regressor__max_depth': max_depth,\n",
    "               'regressor__min_samples_split': min_samples_split,\n",
    "               'regressor__min_samples_leaf': min_samples_leaf,\n",
    "               'regressor__bootstrap': bootstrap}\n",
    "random_grid_pipe"
   ]
  },
  {
   "cell_type": "code",
   "execution_count": null,
   "id": "7ff76d2d-51ae-4690-9910-1e62d3788f6e",
   "metadata": {
    "tags": []
   },
   "outputs": [],
   "source": [
    "new_features=[col for col in new_bikes.columns if col !='total_rentals']\n",
    "\n",
    "X=new_bikes[new_features]\n",
    "y=new_bikes.total_rentals\n",
    "\n",
    "X_train, X_test, y_train, y_test=train_test_split(X,y,random_state=999)\n",
    "\n",
    "steps=[('columns',ColumnTransformer(\n",
    "                transformers=[(\"cat\", OneHotEncoder(categories='auto',sparse_output=False,handle_unknown='ignore'), [0,3,7,8])],\n",
    "                remainder=\"passthrough\",\n",
    "            )),\n",
    "              ('standardization',MinMaxScaler()),\n",
    "              ('regressor',RandomForestRegressor())]\n",
    "\n",
    "final_pipe=Pipeline(steps=steps)\n",
    "\n",
    "\n",
    "rf_random = RandomizedSearchCV(estimator = final_pipe, param_distributions = random_grid_pipe, \n",
    "                               n_iter = 100, cv = 3, verbose=0, random_state=42, \n",
    "                               n_jobs = -1)\n",
    "\n",
    "best_model=rf_random.fit(X_train,y_train)\n",
    "preds=best_model.predict(X_test)\n",
    "np.sqrt(mean_squared_error(y_test,preds))\n",
    "print(\"Done\")"
   ]
  },
  {
   "cell_type": "code",
   "execution_count": null,
   "id": "ea9c3258-4622-4bfe-8121-fcce5cd60dc1",
   "metadata": {
    "tags": []
   },
   "outputs": [],
   "source": [
    "best_params=best_model.best_params_\n",
    "final_params={k.split('__')[1]: v for k,v in best_params.items()}\n",
    "final_params"
   ]
  },
  {
   "cell_type": "code",
   "execution_count": null,
   "id": "2ebaaf50-3181-482a-b903-626a35783f3f",
   "metadata": {
    "tags": []
   },
   "outputs": [],
   "source": [
    "new_features=[col for col in new_bikes.columns if col !='total_rentals']\n",
    "\n",
    "X=new_bikes[new_features]\n",
    "y=new_bikes.total_rentals\n",
    "\n",
    "X_train, X_test, y_train, y_test=train_test_split(X,y,random_state=999)\n",
    "\n",
    "steps=[('columns',ColumnTransformer(\n",
    "                transformers=[(\"cat\", OneHotEncoder(categories='auto',sparse_output=False,handle_unknown='ignore'), [0,3,7,8])],\n",
    "                remainder=\"passthrough\",\n",
    "            )),\n",
    "              ('standardization',MinMaxScaler()),\n",
    "              ('regressor',RandomForestRegressor(**final_params))]\n",
    "\n",
    "final_pipe=Pipeline(steps=steps)\n",
    "final_pipe.fit(X_train,y_train)\n",
    "preds=final_pipe.predict(X_test)\n",
    "rmse=np.sqrt(mean_squared_error(y_test,preds))\n",
    "rmse"
   ]
  },
  {
   "cell_type": "code",
   "execution_count": null,
   "id": "c6e5038a-0d33-47b3-bb65-1af7b369d734",
   "metadata": {
    "tags": []
   },
   "outputs": [],
   "source": [
    "features_importances=final_pipe[-1].feature_importances_\n",
    "features_names=final_pipe[0].get_feature_names_out()"
   ]
  },
  {
   "cell_type": "code",
   "execution_count": null,
   "id": "125572da-21f6-4d53-974d-4f5ce56bdcc1",
   "metadata": {
    "tags": []
   },
   "outputs": [],
   "source": [
    "names_importances=[(a.split(\"__\")[1],b) for a,b in zip(features_names,features_importances)]\n",
    "best_features=sorted(names_importances,key=lambda x: x[1], reverse=True)[:5]\n",
    "best_names=[x[0] for x in best_features]\n",
    "best_importances=[x[1] for x in best_features]\n",
    "plt.bar(best_names,best_importances);"
   ]
  },
  {
   "cell_type": "markdown",
   "id": "65fb19e0-6bc7-41cf-aeac-b648a7661a6a",
   "metadata": {},
   "source": [
    "## NN"
   ]
  },
  {
   "cell_type": "code",
   "execution_count": null,
   "id": "36f556f4-ebb5-4c7a-8b79-f25a5ff837b1",
   "metadata": {},
   "outputs": [],
   "source": [
    "new_features=[col for col in new_bikes.columns if col !='total_rentals']\n",
    "param_grid = {\n",
    "    'regressor__hidden_layer_sizes': [(150,100,50), (120,80,40), (100,50,30)],\n",
    "    'regressor__max_iter': [50, 100,400, 700],\n",
    "    'regressor__activation': ['tanh', 'relu'],\n",
    "    'regressor__solver': ['sgd', 'adam'],\n",
    "    'regressor__alpha': [0.0001, 0.05],\n",
    "    'regressor__learning_rate': ['constant','adaptive'],\n",
    "}\n",
    "\n",
    "X=new_bikes[new_features]\n",
    "y=new_bikes.total_rentals\n",
    "\n",
    "X_train, X_test, y_train, y_test=train_test_split(X,y,random_state=999)\n",
    "\n",
    "steps=[('columns',ColumnTransformer(\n",
    "                transformers=[(\"cat\", OneHotEncoder(categories='auto',sparse_output=False,handle_unknown='ignore'), [0,3,7,8])],\n",
    "                remainder=\"passthrough\",\n",
    "            )),\n",
    "              ('standardization',MinMaxScaler()),\n",
    "              ('regressor',MLPRegressor(max_iter=600,random_state=999))]\n",
    "\n",
    "final_pipe=Pipeline(steps=steps)\n",
    "\n",
    "\n",
    "grid = GridSearchCV(final_pipe, param_grid, n_jobs= -1, cv=5)\n",
    "grid.fit(X_train, y_train)\n",
    "\n",
    "print(grid.best_params_) \n",
    "\n",
    "\n",
    "grid_predictions = grid.predict(X_test)\n",
    "print('RMSE: ',np.sqrt(mean_squared_error(y_test,grid_predictions)))\n",
    "print('R2: ',r2_score(y_test,grid_predictions))\n",
    "print(\"Done\")\n",
    "grid.best_params_"
   ]
  },
  {
   "cell_type": "code",
   "execution_count": 7,
   "id": "88705916-2a12-473d-8995-600792453f58",
   "metadata": {},
   "outputs": [],
   "source": [
    "best_param_grid={'regressor__activation': 'relu', 'regressor__alpha': 0.0001, 'regressor__hidden_layer_sizes': (120, 80, 40), 'regressor__learning_rate': 'constant', 'regressor__max_iter': 100, 'regressor__solver': 'adam'}\n",
    "# RMSE:  71.74701953565547\n",
    "# R2:  0.8401473439916183\n",
    "# Done\n",
    "# {'regressor__activation': 'relu',\n",
    "#  'regressor__alpha': 0.0001,\n",
    "#  'regressor__hidden_layer_sizes': (120, 80, 40),\n",
    "#  'regressor__learning_rate': 'constant',\n",
    "#  'regressor__max_iter': 100,\n",
    "#  'regressor__solver': 'adam'}"
   ]
  },
  {
   "cell_type": "code",
   "execution_count": 14,
   "id": "d8312470-9a8f-42e2-b793-867880531ebf",
   "metadata": {
    "tags": []
   },
   "outputs": [
    {
     "name": "stdout",
     "output_type": "stream",
     "text": [
      "RMSE:  71.74701953565547\n",
      "R2:  0.8401473439916183\n",
      "Done\n"
     ]
    }
   ],
   "source": [
    "new_features=[col for col in new_bikes.columns if col !='total_rentals']\n",
    "best_param_grid = {\n",
    "    'regressor__hidden_layer_sizes': (120,80,40),\n",
    "    'regressor__max_iter': 100,\n",
    "    'regressor__activation': 'relu',\n",
    "    'regressor__solver': 'adam',\n",
    "    'regressor__alpha': 0.0001,\n",
    "    'regressor__learning_rate': 'constant',\n",
    "    'rgressor__random_state':999\n",
    "}\n",
    "final_params={key.split('__')[1]:value for key,value in best_param_grid.items()}\n",
    "\n",
    "X=new_bikes[new_features]\n",
    "y=new_bikes.total_rentals\n",
    "\n",
    "X_train, X_test, y_train, y_test=train_test_split(X,y,random_state=999)\n",
    "\n",
    "steps=[('columns',ColumnTransformer(\n",
    "                transformers=[(\"cat\", OneHotEncoder(categories='auto',sparse_output=False,handle_unknown='ignore'), [0,3,7,8])],\n",
    "                remainder=\"passthrough\",\n",
    "            )),\n",
    "              ('standardization',MinMaxScaler()),\n",
    "              ('regressor',MLPRegressor(**final_params))]\n",
    "\n",
    "final_pipe=Pipeline(steps=steps)\n",
    "\n",
    "\n",
    "final_pipe.fit(X_train, y_train)\n",
    "\n",
    "\n",
    "\n",
    "\n",
    "predictions = final_pipe.predict(X_test)\n",
    "print('RMSE: ',np.sqrt(mean_squared_error(y_test,predictions)))\n",
    "print('R2: ',r2_score(y_test,predictions))\n",
    "print(\"Done\")"
   ]
  },
  {
   "cell_type": "code",
   "execution_count": 4,
   "id": "98d1612e-3432-4c5f-94a6-1d07a4a1ac69",
   "metadata": {},
   "outputs": [
    {
     "name": "stdout",
     "output_type": "stream",
     "text": [
      "2.15.0\n"
     ]
    }
   ],
   "source": [
    "import tensorflow as tf\n",
    "\n",
    "from tensorflow import keras\n",
    "from tensorflow.keras import layers\n",
    "\n",
    "print(tf.__version__)"
   ]
  },
  {
   "cell_type": "code",
   "execution_count": 48,
   "id": "ee59be6a-ace8-4eba-92ae-311e9e682e11",
   "metadata": {},
   "outputs": [],
   "source": [
    "def plot_loss(history):\n",
    "  plt.plot(history.history['loss'], label='loss')\n",
    "  plt.plot(history.history['val_loss'], label='val_loss')\n",
    "  plt.ylim([0, 10])\n",
    "  plt.xlabel('Epoch')\n",
    "  plt.ylabel('Error [MPG]')\n",
    "  plt.legend()\n",
    "  plt.grid(True)"
   ]
  },
  {
   "cell_type": "code",
   "execution_count": 40,
   "id": "782dfd5d-d2cd-46d3-bb83-e6bc75a0a4b2",
   "metadata": {},
   "outputs": [],
   "source": [
    "bikes.drop(['weekday','hour','season'],axis=1,inplace=True)\n",
    "train_dataset = bikes.sample(frac=0.8, random_state=0)\n",
    "test_dataset = bikes.drop(train_dataset.index)"
   ]
  },
  {
   "cell_type": "code",
   "execution_count": 41,
   "id": "fdc45e7c-ec57-4c52-8f37-c4b20574e241",
   "metadata": {},
   "outputs": [],
   "source": [
    "train_features = train_dataset.copy()\n",
    "test_features = test_dataset.copy()\n",
    "\n",
    "train_labels = train_features.pop('total_rentals')\n",
    "test_labels = test_features.pop('total_rentals')"
   ]
  },
  {
   "cell_type": "code",
   "execution_count": 42,
   "id": "451a8fb4-4976-4d23-98bd-6707cf101b19",
   "metadata": {},
   "outputs": [],
   "source": [
    "normalizer = tf.keras.layers.Normalization(axis=-1)"
   ]
  },
  {
   "cell_type": "code",
   "execution_count": 43,
   "id": "7e1fd699-f7ed-4da3-b418-0f085bd20bcc",
   "metadata": {},
   "outputs": [],
   "source": [
    "normalizer.adapt(np.array(train_features).astype('float32'))"
   ]
  },
  {
   "cell_type": "code",
   "execution_count": 44,
   "id": "e0ca0d73-1e1e-4252-93bd-5f03b5c09c0d",
   "metadata": {},
   "outputs": [
    {
     "name": "stdout",
     "output_type": "stream",
     "text": [
      "[[2.8476287e-02 6.7757487e-01 1.4178425e+00 2.0269972e+01 6.2016533e+01\n",
      "  1.2839883e+01 4.1566174e-02 4.1566197e-02 3.9729014e-02 3.9729021e-02\n",
      "  4.2829279e-02 4.1795827e-02 4.1910667e-02 4.3977495e-02 4.3058902e-02\n",
      "  4.0877257e-02 4.1681018e-02 4.1681025e-02 4.0762439e-02 4.3288574e-02\n",
      "  4.1221742e-02 4.1221716e-02 4.1336540e-02 4.0992081e-02 4.2140305e-02\n",
      "  4.2829257e-02 4.1451361e-02 4.1106895e-02 4.1681003e-02 1.4180726e-01\n",
      "  1.4846705e-01 1.4548160e-01 1.3755882e-01 1.4054430e-01 1.4536674e-01\n",
      "  2.5066015e-01 2.5215304e-01 2.5088990e-01]]\n"
     ]
    }
   ],
   "source": [
    "print(normalizer.mean.numpy())"
   ]
  },
  {
   "cell_type": "code",
   "execution_count": 45,
   "id": "598fc86f-617f-42bf-b2a1-41cc00bd6aeb",
   "metadata": {},
   "outputs": [],
   "source": [
    "def build_and_compile_model(norm):\n",
    "  model = keras.Sequential([\n",
    "      norm,\n",
    "      layers.Dense(64, activation='relu'),\n",
    "      layers.Dense(64, activation='relu'),\n",
    "      layers.Dense(1)\n",
    "  ])\n",
    "\n",
    "  model.compile(loss='mean_absolute_error',\n",
    "                optimizer=tf.keras.optimizers.Adam(0.001))\n",
    "  return model"
   ]
  },
  {
   "cell_type": "code",
   "execution_count": 37,
   "id": "ff328a04-26cd-42bd-b088-92a00fb9ad36",
   "metadata": {},
   "outputs": [
    {
     "name": "stderr",
     "output_type": "stream",
     "text": [
      "WARNING:absl:At this time, the v2.11+ optimizer `tf.keras.optimizers.Adam` runs slowly on M1/M2 Macs, please use the legacy Keras optimizer instead, located at `tf.keras.optimizers.legacy.Adam`.\n"
     ]
    },
    {
     "name": "stdout",
     "output_type": "stream",
     "text": [
      "Model: \"sequential\"\n",
      "_________________________________________________________________\n",
      " Layer (type)                Output Shape              Param #   \n",
      "=================================================================\n",
      " normalization_3 (Normaliza  (None, 38)                77        \n",
      " tion)                                                           \n",
      "                                                                 \n",
      " dense (Dense)               (None, 64)                2496      \n",
      "                                                                 \n",
      " dense_1 (Dense)             (None, 64)                4160      \n",
      "                                                                 \n",
      " dense_2 (Dense)             (None, 1)                 65        \n",
      "                                                                 \n",
      "=================================================================\n",
      "Total params: 6798 (26.56 KB)\n",
      "Trainable params: 6721 (26.25 KB)\n",
      "Non-trainable params: 77 (312.00 Byte)\n",
      "_________________________________________________________________\n"
     ]
    }
   ],
   "source": [
    "dnn_model = build_and_compile_model(normalizer)\n",
    "dnn_model.summary()"
   ]
  },
  {
   "cell_type": "code",
   "execution_count": 46,
   "id": "32af20c4-0d46-47ea-a379-effbae28e649",
   "metadata": {},
   "outputs": [
    {
     "name": "stdout",
     "output_type": "stream",
     "text": [
      "CPU times: user 11.4 s, sys: 1.2 s, total: 12.6 s\n",
      "Wall time: 10 s\n"
     ]
    }
   ],
   "source": [
    "%%time\n",
    "history = dnn_model.fit(\n",
    "    train_features,\n",
    "    train_labels,\n",
    "    validation_split=0.2,\n",
    "    verbose=0, epochs=100)"
   ]
  },
  {
   "cell_type": "code",
   "execution_count": 51,
   "id": "d7d76ef1-170d-4001-88ca-78dd772add32",
   "metadata": {},
   "outputs": [],
   "source": [
    "test_results['dnn_model'] = dnn_model.evaluate(test_features, test_labels, verbose=0)"
   ]
  },
  {
   "cell_type": "code",
   "execution_count": 52,
   "id": "21e07342-bd2f-425d-927e-deec573eb6c6",
   "metadata": {},
   "outputs": [
    {
     "name": "stdout",
     "output_type": "stream",
     "text": [
      "69/69 [==============================] - 0s 334us/step\n"
     ]
    },
    {
     "data": {
      "image/png": "[encoded data removed]",
      "text/plain": [
       "<Figure size 640x480 with 1 Axes>"
      ]
     },
     "metadata": {},
     "output_type": "display_data"
    }
   ],
   "source": [
    "test_predictions = dnn_model.predict(test_features).flatten()\n",
    "\n",
    "a = plt.axes(aspect='equal')\n",
    "plt.scatter(test_labels, test_predictions)\n",
    "plt.xlabel('True Values [MPG]')\n",
    "plt.ylabel('Predictions [MPG]')\n",
    "lims = [0, 50]\n",
    "plt.xlim(lims)\n",
    "plt.ylim(lims)\n",
    "_ = plt.plot(lims, lims)"
   ]
  },
  {
   "cell_type": "code",
   "execution_count": 54,
   "id": "0e1f7fc8-a457-484a-8894-c71ae974ddb9",
   "metadata": {},
   "outputs": [
    {
     "data": {
      "text/plain": [
       "73.33426089518863"
      ]
     },
     "execution_count": 54,
     "metadata": {},
     "output_type": "execute_result"
    }
   ],
   "source": [
    "np.sqrt(mean_squared_error(test_labels,test_predictions))"
   ]
  },
  {
   "cell_type": "code",
   "execution_count": null,
   "id": "09d9a8e7-7013-464a-8db5-d9dfa96b1039",
   "metadata": {},
   "outputs": [],
   "source": []
  }
 ],
 "metadata": {
  "kernelspec": {
   "display_name": "Python 3 (ipykernel)",
   "language": "python",
   "name": "python3"
  },
  "language_info": {
   "codemirror_mode": {
    "name": "ipython",
    "version": 3
   },
   "file_extension": ".py",
   "mimetype": "text/x-python",
   "name": "python",
   "nbconvert_exporter": "python",
   "pygments_lexer": "ipython3",
   "version": "3.11.8"
  }
 },
 "nbformat": 4,
 "nbformat_minor": 5
}
